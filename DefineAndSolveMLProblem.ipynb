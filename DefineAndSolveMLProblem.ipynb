{
 "cells": [
  {
   "cell_type": "markdown",
   "metadata": {},
   "source": [
    "# Lab 8: Define and Solve an ML Problem of Your Choosing"
   ]
  },
  {
   "cell_type": "code",
   "execution_count": 1,
   "metadata": {},
   "outputs": [],
   "source": [
    "import pandas as pd\n",
    "import numpy as np\n",
    "import os \n",
    "import matplotlib.pyplot as plt\n",
    "import seaborn as sns"
   ]
  },
  {
   "cell_type": "markdown",
   "metadata": {},
   "source": [
    "In this lab assignment, you will follow the machine learning life cycle and implement a model to solve a machine learning problem of your choosing. You will select a data set and choose a predictive problem that the data set supports.  You will then inspect the data with your problem in mind and begin to formulate a  project plan. You will then implement the machine learning project plan. \n",
    "\n",
    "You will complete the following tasks:\n",
    "\n",
    "1. Build Your DataFrame\n",
    "2. Define Your ML Problem\n",
    "3. Perform exploratory data analysis to understand your data.\n",
    "4. Define Your Project Plan\n",
    "5. Implement Your Project Plan:\n",
    "    * Prepare your data for your model.\n",
    "    * Fit your model to the training data and evaluate your model.\n",
    "    * Improve your model's performance."
   ]
  },
  {
   "cell_type": "markdown",
   "metadata": {},
   "source": [
    "## Part 1: Build Your DataFrame\n",
    "\n",
    "You will have the option to choose one of four data sets that you have worked with in this program:\n",
    "\n",
    "* The \"census\" data set that contains Census information from 1994: `censusData.csv`\n",
    "* Airbnb NYC \"listings\" data set: `airbnbListingsData.csv`\n",
    "* World Happiness Report (WHR) data set: `WHR2018Chapter2OnlineData.csv`\n",
    "* Book Review data set: `bookReviewsData.csv`\n",
    "\n",
    "Note that these are variations of the data sets that you have worked with in this program. For example, some do not include some of the preprocessing necessary for specific models. \n",
    "\n",
    "#### Load a Data Set and Save it as a Pandas DataFrame\n",
    "\n",
    "The code cell below contains filenames (path + filename) for each of the four data sets available to you.\n",
    "\n",
    "<b>Task:</b> In the code cell below, use the same method you have been using to load the data using `pd.read_csv()` and save it to DataFrame `df`. \n",
    "\n",
    "You can load each file as a new DataFrame to inspect the data before choosing your data set."
   ]
  },
  {
   "cell_type": "code",
   "execution_count": 2,
   "metadata": {},
   "outputs": [
    {
     "data": {
      "text/html": [
       "<div>\n",
       "<style scoped>\n",
       "    .dataframe tbody tr th:only-of-type {\n",
       "        vertical-align: middle;\n",
       "    }\n",
       "\n",
       "    .dataframe tbody tr th {\n",
       "        vertical-align: top;\n",
       "    }\n",
       "\n",
       "    .dataframe thead th {\n",
       "        text-align: right;\n",
       "    }\n",
       "</style>\n",
       "<table border=\"1\" class=\"dataframe\">\n",
       "  <thead>\n",
       "    <tr style=\"text-align: right;\">\n",
       "      <th></th>\n",
       "      <th>text</th>\n",
       "      <th>label</th>\n",
       "    </tr>\n",
       "  </thead>\n",
       "  <tbody>\n",
       "    <tr>\n",
       "      <th>0</th>\n",
       "      <td>i just feel really helpless and heavy hearted</td>\n",
       "      <td>4.0</td>\n",
       "    </tr>\n",
       "    <tr>\n",
       "      <th>1</th>\n",
       "      <td>ive enjoyed being able to slouch about relax a...</td>\n",
       "      <td>0.0</td>\n",
       "    </tr>\n",
       "    <tr>\n",
       "      <th>2</th>\n",
       "      <td>i gave up my internship with the dmrg and am f...</td>\n",
       "      <td>4.0</td>\n",
       "    </tr>\n",
       "    <tr>\n",
       "      <th>3</th>\n",
       "      <td>i dont know i feel so lost</td>\n",
       "      <td>0.0</td>\n",
       "    </tr>\n",
       "    <tr>\n",
       "      <th>4</th>\n",
       "      <td>i am a kindergarten teacher and i am thoroughl...</td>\n",
       "      <td>4.0</td>\n",
       "    </tr>\n",
       "  </tbody>\n",
       "</table>\n",
       "</div>"
      ],
      "text/plain": [
       "                                                text  label\n",
       "0      i just feel really helpless and heavy hearted    4.0\n",
       "1  ive enjoyed being able to slouch about relax a...    0.0\n",
       "2  i gave up my internship with the dmrg and am f...    4.0\n",
       "3                         i dont know i feel so lost    0.0\n",
       "4  i am a kindergarten teacher and i am thoroughl...    4.0"
      ]
     },
     "execution_count": 2,
     "metadata": {},
     "output_type": "execute_result"
    }
   ],
   "source": [
    "# File names of the four data sets\n",
    "adultDataSet_filename = os.path.join(os.getcwd(), \"data\", \"censusData.csv\")\n",
    "airbnbDataSet_filename = os.path.join(os.getcwd(), \"data\", \"airbnbListingsData.csv\")\n",
    "WHRDataSet_filename = os.path.join(os.getcwd(), \"data\", \"WHR2018Chapter2OnlineData.csv\")\n",
    "bookReviewDataSet_filename = os.path.join(os.getcwd(), \"data\", \"bookReviewsData.csv\")\n",
    "\n",
    "\n",
    "df = pd.read_csv(os.path.join(os.getcwd(), \"data\", \"text.csv\"), header=0)\n",
    "df = df[['text','label']]\n",
    "\n",
    "## The last example is null so it was dropped from the dataset.\n",
    "df = df.head(107744)\n",
    "df.head()"
   ]
  },
  {
   "cell_type": "code",
   "execution_count": 3,
   "metadata": {},
   "outputs": [
    {
     "data": {
      "text/plain": [
       "(107744, 2)"
      ]
     },
     "execution_count": 3,
     "metadata": {},
     "output_type": "execute_result"
    }
   ],
   "source": [
    "df.shape"
   ]
  },
  {
   "cell_type": "markdown",
   "metadata": {},
   "source": [
    "## Part 2: Define Your ML Problem\n",
    "\n",
    "Next you will formulate your ML Problem. In the markdown cell below, answer the following questions:\n",
    "\n",
    "1. List the data set you have chosen.\n",
    "2. What will you be predicting? What is the label?\n",
    "3. Is this a supervised or unsupervised learning problem? Is this a clustering, classification or regression problem? Is it a binary classificaiton or multi-class classifiction problem?\n",
    "4. What are your features? (note: this list may change after your explore your data)\n",
    "5. Explain why this is an important problem. In other words, how would a company create value with a model that predicts this label?"
   ]
  },
  {
   "cell_type": "markdown",
   "metadata": {},
   "source": [
    "1. I have chosen the [Emotions](https://www.kaggle.com/datasets/nelgiriyewithana/emotions) dataset from Kaggle which classifies short Tweets by the emotions they convey. After creating such a model, I want to see how it categorizes the Instagram comments on my account @whatsernamie, which I acquired with the Instagram Graph API.\n",
    "2. Using only the text of the Tweets, I want to predict the emotion of the message. In the dataset, the label column of numerical representation of emotions (sadness (0), joy (1), love (2), anger (3), fear (4), and surprise (5)) is called 'label.'\n",
    "3. This is a supervised machine learning problem because of the use of a label to train the model to predict the information the label represents.  This is a multi-class classification problem because it classifies 6 distinct unordered categories (nominal data).\n",
    "4. The only feature available from the raw dataset is the text of the Tweet, however, these texts will eventually be converted into features via text vectorization.\n",
    "5. This is an important problem for social media influencers or businesses with an online presence. Being able to quickly predict the emotions of several incoming comments is crucial for understanding the emotional impact of a post, and whether this response aligns with the goals of the account holder or the company. Marketing requires strategizing content creation to get viewers to take a certain action, whether it's buying a product, donating to a cause, or simply clicking the follow button. Oftentimes, this is done by appealing to strong emotions like joy or sadness. In my case, I would like to use this model to get a quick overview of the emotional impact of my posts on my audience. Is it overall making them happy, making them angry, or making them sad? I would use this information to assess whether my content aligns with my goals of making other artists feel happy and inspired, and reduce content that doesn't align, like making posts that make people feel sad."
   ]
  },
  {
   "cell_type": "markdown",
   "metadata": {},
   "source": [
    "## Part 3: Understand Your Data\n",
    "\n",
    "The next step is to perform exploratory data analysis. Inspect and analyze your data set with your machine learning problem in mind. Consider the following as you inspect your data:\n",
    "\n",
    "1. What data preparation techniques would you like to use? These data preparation techniques may include:\n",
    "\n",
    "    * addressing missingness, such as replacing missing values with means\n",
    "    * finding and replacing outliers\n",
    "    * renaming features and labels\n",
    "    * finding and replacing outliers\n",
    "    * performing feature engineering techniques such as one-hot encoding on categorical features\n",
    "    * selecting appropriate features and removing irrelevant features\n",
    "    * performing specific data cleaning and preprocessing techniques for an NLP problem\n",
    "    * addressing class imbalance in your data sample to promote fair AI\n",
    "    \n",
    "\n",
    "2. What machine learning model (or models) you would like to use that is suitable for your predictive problem and data?\n",
    "    * Are there other data preparation techniques that you will need to apply to build a balanced modeling data set for your problem and model? For example, will you need to scale your data?\n",
    " \n",
    " \n",
    "3. How will you evaluate and improve the model's performance?\n",
    "    * Are there specific evaluation metrics and methods that are appropriate for your model?\n",
    "    \n",
    "\n",
    "Think of the different techniques you have used to inspect and analyze your data in this course. These include using Pandas to apply data filters, using the Pandas `describe()` method to get insight into key statistics for each column, using the Pandas `dtypes` property to inspect the data type of each column, and using Matplotlib and Seaborn to detect outliers and visualize relationships between features and labels. If you are working on a classification problem, use techniques you have learned to determine if there is class imbalance.\n",
    "\n",
    "<b>Task</b>: Use the techniques you have learned in this course to inspect and analyze your data. You can import additional packages that you have used in this course that you will need to perform this task.\n",
    "\n",
    "<b>Note</b>: You can add code cells if needed by going to the <b>Insert</b> menu and clicking on <b>Insert Cell Below</b> in the drop-drown menu."
   ]
  },
  {
   "cell_type": "markdown",
   "metadata": {},
   "source": [
    "#### Addressing Missing Values\n"
   ]
  },
  {
   "cell_type": "code",
   "execution_count": 4,
   "metadata": {},
   "outputs": [
    {
     "data": {
      "text/plain": [
       "False"
      ]
     },
     "execution_count": 4,
     "metadata": {},
     "output_type": "execute_result"
    }
   ],
   "source": [
    "df.isnull().values.any()"
   ]
  },
  {
   "cell_type": "markdown",
   "metadata": {},
   "source": [
    "No missing values!"
   ]
  },
  {
   "cell_type": "markdown",
   "metadata": {},
   "source": [
    "#### Observing Class Representation"
   ]
  },
  {
   "cell_type": "code",
   "execution_count": 5,
   "metadata": {},
   "outputs": [
    {
     "data": {
      "image/png": "[encoded data removed]",
      "text/plain": [
       "<Figure size 640x480 with 1 Axes>"
      ]
     },
     "metadata": {},
     "output_type": "display_data"
    }
   ],
   "source": [
    "emotion_counts = []\n",
    "for i in range(6):\n",
    "    emotion_counts.append(np.sum(df['label']==i, axis = 0))\n",
    "class_rep = {'Emotion': ['sadness', 'joy', 'love', 'anger', 'fear', 'surprise'], 'Count': emotion_counts}\n",
    "sns.barplot(data=class_rep, x='Emotion', y='Count')\n",
    "plt.show()"
   ]
  },
  {
   "cell_type": "code",
   "execution_count": 6,
   "metadata": {},
   "outputs": [
    {
     "data": {
      "text/plain": [
       "[31634, 36461, 8872, 14624, 12222, 3931]"
      ]
     },
     "execution_count": 6,
     "metadata": {},
     "output_type": "execute_result"
    }
   ],
   "source": [
    "emotion_counts"
   ]
  },
  {
   "cell_type": "code",
   "execution_count": 7,
   "metadata": {},
   "outputs": [
    {
     "name": "stdout",
     "output_type": "stream",
     "text": [
      "(joy) / (surprise): 8.04731620452811\n",
      "(sadness+joy) / (love+anger+fear+surprise): 1.7174455850084491\n"
     ]
    }
   ],
   "source": [
    "print('(joy) / (surprise): ' + str(31634/3931))\n",
    "print('(sadness+joy) / (love+anger+fear+surprise): ' + str((31634+36461)/(8872+14624+12222+3931)))"
   ]
  },
  {
   "cell_type": "markdown",
   "metadata": {},
   "source": [
    "The majority of the examples are categorized under \"sadness\" and \"joy\". The ratio of \"joy\" examples (most represented) to \"surprise\" examples (least represented) is about 8 to 1. The ratio of the two dominant classes to the non-dominant classes is about 2 to 1. Since sadness and joy are general emotions that are likely easiest for humans to spot (similar to recognizing positive versus negative sentiment), it makes sense that they would be dominant. \n",
    "\n",
    "However, it may be useful to equalize the classes to have the same number of examples and compare the models. Since there are over 100,000 examples in this dataset, I will just randomly drop examples from classes until they all have the same number of examples as surprise. I will also try creating a dataset that randomly drops half the datapoints from \"sadness\" and \"joy\" so they are closer to the class representation of \"anger\"."
   ]
  },
  {
   "cell_type": "markdown",
   "metadata": {},
   "source": [
    "#### Equal Classes"
   ]
  },
  {
   "cell_type": "code",
   "execution_count": 8,
   "metadata": {},
   "outputs": [
    {
     "data": {
      "text/plain": [
       "3931"
      ]
     },
     "execution_count": 8,
     "metadata": {},
     "output_type": "execute_result"
    }
   ],
   "source": [
    "smallest_class_size = min(emotion_counts)\n",
    "smallest_class_size"
   ]
  },
  {
   "cell_type": "code",
   "execution_count": 9,
   "metadata": {},
   "outputs": [],
   "source": [
    "df_equal = df\n",
    "for i in range(6):\n",
    "    df_to_drop = df[df['label']==i]\n",
    "    indices = np.random.choice(df_to_drop.index, size=len(df_to_drop)-smallest_class_size, replace=False)\n",
    "    rows = df.loc[indices]\n",
    "    df_equal = df_equal.drop(index=indices)"
   ]
  },
  {
   "cell_type": "code",
   "execution_count": 10,
   "metadata": {},
   "outputs": [
    {
     "data": {
      "image/png": "[encoded data removed]",
      "text/plain": [
       "<Figure size 640x480 with 1 Axes>"
      ]
     },
     "metadata": {},
     "output_type": "display_data"
    }
   ],
   "source": [
    "emotion_counts = []\n",
    "for i in range(6):\n",
    "    emotion_counts.append(np.sum(df_equal['label']==i, axis = 0))\n",
    "class_rep = {'Emotion': ['sadness', 'joy', 'love', 'anger', 'fear', 'surprise'], 'Count': emotion_counts}\n",
    "sns.barplot(data=class_rep, x='Emotion', y='Count')\n",
    "plt.show()"
   ]
  },
  {
   "cell_type": "markdown",
   "metadata": {},
   "source": [
    "#### Reduce Sadness/Joy"
   ]
  },
  {
   "cell_type": "code",
   "execution_count": 11,
   "metadata": {},
   "outputs": [],
   "source": [
    "df_reduce = df\n",
    "for i in range(2):\n",
    "    df_to_drop = df[df['label']==i]\n",
    "    indices = np.random.choice(df_to_drop.index, size=len(df_to_drop)//2, replace=False)\n",
    "    rows = df.loc[indices]\n",
    "    df_reduce = df_reduce.drop(index=indices)"
   ]
  },
  {
   "cell_type": "code",
   "execution_count": 12,
   "metadata": {},
   "outputs": [
    {
     "data": {
      "image/png": "[encoded data removed]",
      "text/plain": [
       "<Figure size 640x480 with 1 Axes>"
      ]
     },
     "metadata": {},
     "output_type": "display_data"
    }
   ],
   "source": [
    "emotion_counts = []\n",
    "for i in range(6):\n",
    "    emotion_counts.append(np.sum(df_reduce['label']==i, axis = 0))\n",
    "class_rep = {'Emotion': ['sadness', 'joy', 'love', 'anger', 'fear', 'surprise'], 'Count': emotion_counts}\n",
    "sns.barplot(data=class_rep, x='Emotion', y='Count')\n",
    "plt.show()"
   ]
  },
  {
   "cell_type": "markdown",
   "metadata": {},
   "source": [
    "#### Examples of Each Emotion"
   ]
  },
  {
   "cell_type": "markdown",
   "metadata": {},
   "source": [
    "<b>Sadness:</b>"
   ]
  },
  {
   "cell_type": "code",
   "execution_count": 13,
   "metadata": {},
   "outputs": [
    {
     "name": "stdout",
     "output_type": "stream",
     "text": [
      "ive enjoyed being able to slouch about relax and unwind and frankly needed it after those last few weeks around the end of uni and the expo i have lately started to find myself feeling a bit listless which is never really a good thing\n",
      "i dont know i feel so lost\n",
      "i was beginning to feel quite disheartened\n",
      "i can still lose the weight without feeling deprived\n",
      "im feeling a little like a damaged tree and that my roots are a little out of wack\n"
     ]
    }
   ],
   "source": [
    "for x in df.loc[df['label'] == 0].head()['text']:\n",
    "    print(x)"
   ]
  },
  {
   "cell_type": "markdown",
   "metadata": {},
   "source": [
    "<b>Joy:</b>"
   ]
  },
  {
   "cell_type": "code",
   "execution_count": 14,
   "metadata": {},
   "outputs": [
    {
     "name": "stdout",
     "output_type": "stream",
     "text": [
      "i fear that they won t ever feel that delicious excitement of christmas eve at least not in the same way i remember doing it\n",
      "i try to be nice though so if you get a bitchy person on the phone or at the window feel free to have a little fit and throw your pen at her face\n",
      "i have officially graduated im not feeling as ecstatic as i thought i would\n",
      "i feel my portfolio demonstrates how eager i am to learn but some who know me better might call it annoyingly persistent\n",
      "i may be more biased than the next because i have a dependent life to take care of and to keep safe but i feel we all need to take care of ourselves as well\n"
     ]
    }
   ],
   "source": [
    "for x in df.loc[df['label'] == 1].head()['text']:\n",
    "    print(x)"
   ]
  },
  {
   "cell_type": "markdown",
   "metadata": {},
   "source": [
    "<b>Love:</b>"
   ]
  },
  {
   "cell_type": "code",
   "execution_count": 15,
   "metadata": {},
   "outputs": [
    {
     "name": "stdout",
     "output_type": "stream",
     "text": [
      "i would think that whomever would be lucky enough to stay in this suite must feel like it is the most romantic place on earth\n",
      "i guess that feeling is what im really getting all nostalgic about\n",
      "i was less intelligent and could not really feel through my music was not passionate about the little things im not sure i would go for it\n",
      "i think a guy can make up for lacking funds in romantic ways to make his lady feel taken care of and loved\n",
      "i would want to thank them for letting my heart feel the lovely phenomenon for the first time\n"
     ]
    }
   ],
   "source": [
    "for x in df.loc[df['label'] == 2].head()['text']:\n",
    "    print(x)"
   ]
  },
  {
   "cell_type": "markdown",
   "metadata": {},
   "source": [
    "<b>Anger:</b>"
   ]
  },
  {
   "cell_type": "code",
   "execution_count": 16,
   "metadata": {},
   "outputs": [
    {
     "name": "stdout",
     "output_type": "stream",
     "text": [
      "i feel like a jerk because the library students who all claim to love scrabble cant be bothered to participate and clearly scrabble is an inappropriate choice for a group of students whose native language isnt english\n",
      "i miss all the others as well that feel that i wronged them and they will soon understand that i didnt\n",
      "i saunter through the airport terminals feeling that i have had an experience that renders the petty tribulations of everyday travel somehow far less significant\n",
      "i need to feel dangerous and pretty so here a striking dance pick deep in vogue minutes ago\n",
      "when\n"
     ]
    }
   ],
   "source": [
    "for x in df.loc[df['label'] == 3].head()['text']:\n",
    "    print(x)"
   ]
  },
  {
   "cell_type": "markdown",
   "metadata": {},
   "source": [
    "<b>Fear:</b>"
   ]
  },
  {
   "cell_type": "code",
   "execution_count": 17,
   "metadata": {},
   "outputs": [
    {
     "name": "stdout",
     "output_type": "stream",
     "text": [
      "i just feel really helpless and heavy hearted\n",
      "i gave up my internship with the dmrg and am feeling distraught\n",
      "i am a kindergarten teacher and i am thoroughly weary of my job after having taken the university entrance exam i suffered from anxiety for weeks as i did not want to carry on with my work studies were the only alternative\n",
      "i dunno i just feel scared to walk in after awhile it got ok but when i walk into this room w poorly erected brick walls separating the room into xm partitions\n",
      "i feel a bit intimidated and out of my league due to his experience\n"
     ]
    }
   ],
   "source": [
    "for x in df.loc[df['label'] == 4].head()['text']:\n",
    "    print(x)"
   ]
  },
  {
   "cell_type": "markdown",
   "metadata": {},
   "source": [
    "<b>Surprise:</b>"
   ]
  },
  {
   "cell_type": "code",
   "execution_count": 18,
   "metadata": {},
   "outputs": [
    {
     "name": "stdout",
     "output_type": "stream",
     "text": [
      "im forever taking some time out to have a lie down because i feel weird\n",
      "i was feeling really overwhelmed\n",
      "i really love reading bible because i can feel the presence of the lord jesus and i feel every single word it says and also amazed on how this and that happened how jesus sacrifice just to save us from our sin and also looking back then on how he created everything in this world\n",
      "im feeling a bit amazed and grateful about having landed amid such a congregation\n",
      "i just sat there feeling this weird feeling and a few moments later the leader called out to wind it down so we could switch roles\n"
     ]
    }
   ],
   "source": [
    "for x in df.loc[df['label'] == 5].head()['text']:\n",
    "    print(x)"
   ]
  },
  {
   "cell_type": "markdown",
   "metadata": {},
   "source": [
    "Some of the texts seem to fit better with other emotions, which may be because it's a somewhat subjective matter and some texts can fit multiple emotions at once. For example, \"i was feeling really overwhelmed\" could fit well into both surprise and fear. Pe"
   ]
  },
  {
   "cell_type": "markdown",
   "metadata": {},
   "source": [
    "#### Preprocessing the Text"
   ]
  },
  {
   "cell_type": "markdown",
   "metadata": {},
   "source": [
    "I installed gensim to do simple text preprocessing. This function will remove some stop words, covert all text to lowercase, remove punctuation and tokenize the text."
   ]
  },
  {
   "cell_type": "code",
   "execution_count": 19,
   "metadata": {},
   "outputs": [],
   "source": [
    "# %pip install gensim\n",
    "import gensim"
   ]
  },
  {
   "cell_type": "code",
   "execution_count": 20,
   "metadata": {},
   "outputs": [
    {
     "data": {
      "text/plain": [
       "0         [just, feel, really, helpless, and, heavy, hea...\n",
       "1         [ive, enjoyed, being, able, to, slouch, about,...\n",
       "2         [gave, up, my, internship, with, the, dmrg, an...\n",
       "3                              [dont, know, feel, so, lost]\n",
       "4         [am, kindergarten, teacher, and, am, thoroughl...\n",
       "                                ...                        \n",
       "107739    [im, feeling, generous, you, might, get, to, r...\n",
       "107740    [feel, like, the, only, person, who, not, ente...\n",
       "107741                          [feel, sooooooo, lethargic]\n",
       "107742    [probably, could, add, lot, more, to, this, li...\n",
       "107743    [im, feeling, in, love, my, beloved, mate, thi...\n",
       "Name: text, Length: 107744, dtype: object"
      ]
     },
     "execution_count": 20,
     "metadata": {},
     "output_type": "execute_result"
    }
   ],
   "source": [
    "original_df = df\n",
    "df['text'] = df['text'].apply(lambda row: gensim.utils.simple_preprocess(row))\n",
    "df['text']"
   ]
  },
  {
   "cell_type": "markdown",
   "metadata": {},
   "source": [
    "Gensim does not perform stemming so I will use NLTK to do this manually."
   ]
  },
  {
   "cell_type": "code",
   "execution_count": 21,
   "metadata": {},
   "outputs": [],
   "source": [
    "# %pip install nltk\n",
    "import nltk"
   ]
  },
  {
   "cell_type": "code",
   "execution_count": 22,
   "metadata": {},
   "outputs": [],
   "source": [
    "stemmer = nltk.stem.SnowballStemmer('english')\n",
    "def stemming(wordlist, stemmer):\n",
    "    stemmed = []\n",
    "    for word in wordlist:\n",
    "        stemmed.append(stemmer.stem(word))\n",
    "    return stemmed"
   ]
  },
  {
   "cell_type": "code",
   "execution_count": 23,
   "metadata": {},
   "outputs": [
    {
     "data": {
      "text/plain": [
       "0         [just, feel, realli, helpless, and, heavi, heart]\n",
       "1         [ive, enjoy, be, abl, to, slouch, about, relax...\n",
       "2         [gave, up, my, internship, with, the, dmrg, an...\n",
       "3                              [dont, know, feel, so, lost]\n",
       "4         [am, kindergarten, teacher, and, am, thorough,...\n",
       "                                ...                        \n",
       "107739    [im, feel, generous, you, might, get, to, read...\n",
       "107740    [feel, like, the, onli, person, who, not, ente...\n",
       "107741                            [feel, sooooooo, letharg]\n",
       "107742    [probabl, could, add, lot, more, to, this, lis...\n",
       "107743    [im, feel, in, love, my, belov, mate, this, morn]\n",
       "Name: text, Length: 107744, dtype: object"
      ]
     },
     "execution_count": 23,
     "metadata": {},
     "output_type": "execute_result"
    }
   ],
   "source": [
    "df['text'] = df['text'].apply(lambda row: stemming(row, stemmer))\n",
    "df['text']"
   ]
  },
  {
   "cell_type": "markdown",
   "metadata": {},
   "source": [
    "It looks like some more stop words could be removed, such as \"feel\", which appears to be in almost every example. These stop words provide no extra value to the model, since they're not useful in distinguishing the differences between each Tweet. I will remove some more stopwords using the stopwords list from NLTK."
   ]
  },
  {
   "cell_type": "code",
   "execution_count": 24,
   "metadata": {},
   "outputs": [
    {
     "data": {
      "text/plain": [
       "['i',\n",
       " 'me',\n",
       " 'my',\n",
       " 'myself',\n",
       " 'we',\n",
       " 'our',\n",
       " 'ours',\n",
       " 'ourselves',\n",
       " 'you',\n",
       " \"you're\",\n",
       " \"you've\",\n",
       " \"you'll\",\n",
       " \"you'd\",\n",
       " 'your',\n",
       " 'yours',\n",
       " 'yourself',\n",
       " 'yourselves',\n",
       " 'he',\n",
       " 'him',\n",
       " 'his',\n",
       " 'himself',\n",
       " 'she',\n",
       " \"she's\",\n",
       " 'her',\n",
       " 'hers',\n",
       " 'herself',\n",
       " 'it',\n",
       " \"it's\",\n",
       " 'its',\n",
       " 'itself',\n",
       " 'they',\n",
       " 'them',\n",
       " 'their',\n",
       " 'theirs',\n",
       " 'themselves',\n",
       " 'what',\n",
       " 'which',\n",
       " 'who',\n",
       " 'whom',\n",
       " 'this',\n",
       " 'that',\n",
       " \"that'll\",\n",
       " 'these',\n",
       " 'those',\n",
       " 'am',\n",
       " 'is',\n",
       " 'are',\n",
       " 'was',\n",
       " 'were',\n",
       " 'be',\n",
       " 'been',\n",
       " 'being',\n",
       " 'have',\n",
       " 'has',\n",
       " 'had',\n",
       " 'having',\n",
       " 'do',\n",
       " 'does',\n",
       " 'did',\n",
       " 'doing',\n",
       " 'a',\n",
       " 'an',\n",
       " 'the',\n",
       " 'and',\n",
       " 'but',\n",
       " 'if',\n",
       " 'or',\n",
       " 'because',\n",
       " 'as',\n",
       " 'until',\n",
       " 'while',\n",
       " 'of',\n",
       " 'at',\n",
       " 'by',\n",
       " 'for',\n",
       " 'with',\n",
       " 'about',\n",
       " 'against',\n",
       " 'between',\n",
       " 'into',\n",
       " 'through',\n",
       " 'during',\n",
       " 'before',\n",
       " 'after',\n",
       " 'above',\n",
       " 'below',\n",
       " 'to',\n",
       " 'from',\n",
       " 'up',\n",
       " 'down',\n",
       " 'in',\n",
       " 'out',\n",
       " 'on',\n",
       " 'off',\n",
       " 'over',\n",
       " 'under',\n",
       " 'again',\n",
       " 'further',\n",
       " 'then',\n",
       " 'once',\n",
       " 'here',\n",
       " 'there',\n",
       " 'when',\n",
       " 'where',\n",
       " 'why',\n",
       " 'how',\n",
       " 'all',\n",
       " 'any',\n",
       " 'both',\n",
       " 'each',\n",
       " 'few',\n",
       " 'more',\n",
       " 'most',\n",
       " 'other',\n",
       " 'some',\n",
       " 'such',\n",
       " 'no',\n",
       " 'nor',\n",
       " 'not',\n",
       " 'only',\n",
       " 'own',\n",
       " 'same',\n",
       " 'so',\n",
       " 'than',\n",
       " 'too',\n",
       " 'very',\n",
       " 's',\n",
       " 't',\n",
       " 'can',\n",
       " 'will',\n",
       " 'just',\n",
       " 'don',\n",
       " \"don't\",\n",
       " 'should',\n",
       " \"should've\",\n",
       " 'now',\n",
       " 'd',\n",
       " 'll',\n",
       " 'm',\n",
       " 'o',\n",
       " 're',\n",
       " 've',\n",
       " 'y',\n",
       " 'ain',\n",
       " 'aren',\n",
       " \"aren't\",\n",
       " 'couldn',\n",
       " \"couldn't\",\n",
       " 'didn',\n",
       " \"didn't\",\n",
       " 'doesn',\n",
       " \"doesn't\",\n",
       " 'hadn',\n",
       " \"hadn't\",\n",
       " 'hasn',\n",
       " \"hasn't\",\n",
       " 'haven',\n",
       " \"haven't\",\n",
       " 'isn',\n",
       " \"isn't\",\n",
       " 'ma',\n",
       " 'mightn',\n",
       " \"mightn't\",\n",
       " 'mustn',\n",
       " \"mustn't\",\n",
       " 'needn',\n",
       " \"needn't\",\n",
       " 'shan',\n",
       " \"shan't\",\n",
       " 'shouldn',\n",
       " \"shouldn't\",\n",
       " 'wasn',\n",
       " \"wasn't\",\n",
       " 'weren',\n",
       " \"weren't\",\n",
       " 'won',\n",
       " \"won't\",\n",
       " 'wouldn',\n",
       " \"wouldn't\"]"
      ]
     },
     "execution_count": 24,
     "metadata": {},
     "output_type": "execute_result"
    }
   ],
   "source": [
    "from nltk.corpus import stopwords\n",
    "# nltk.download('stopwords')\n",
    "stop_words = stopwords.words('english')\n",
    "stop_words"
   ]
  },
  {
   "cell_type": "code",
   "execution_count": 25,
   "metadata": {},
   "outputs": [],
   "source": [
    "def removeStopWords(wordlist, stop_words):\n",
    "    cleaned = []\n",
    "    for word in wordlist:\n",
    "        if word not in stop_words:\n",
    "            cleaned.append(word)\n",
    "    return cleaned"
   ]
  },
  {
   "cell_type": "code",
   "execution_count": 26,
   "metadata": {},
   "outputs": [
    {
     "data": {
      "text/plain": [
       "0                    [feel, realli, helpless, heavi, heart]\n",
       "1         [ive, enjoy, abl, slouch, relax, unwind, frank...\n",
       "2                [gave, internship, dmrg, feel, distraught]\n",
       "3                                  [dont, know, feel, lost]\n",
       "4         [kindergarten, teacher, thorough, weari, job, ...\n",
       "                                ...                        \n",
       "107739      [im, feel, generous, might, get, read, excerpt]\n",
       "107740    [feel, like, onli, person, entertain, manufact...\n",
       "107741                            [feel, sooooooo, letharg]\n",
       "107742    [probabl, could, add, lot, list, would, onli, ...\n",
       "107743                  [im, feel, love, belov, mate, morn]\n",
       "Name: text, Length: 107744, dtype: object"
      ]
     },
     "execution_count": 26,
     "metadata": {},
     "output_type": "execute_result"
    }
   ],
   "source": [
    "df['text'] = df['text'].apply(lambda row: removeStopWords(row, stop_words))\n",
    "df['text']"
   ]
  },
  {
   "cell_type": "markdown",
   "metadata": {},
   "source": [
    "Additionally, to find more overused words, I will use Gensim again to get the document frequency of each word, which is the number of documents that contain a certain word."
   ]
  },
  {
   "cell_type": "code",
   "execution_count": 27,
   "metadata": {},
   "outputs": [],
   "source": [
    "dictionary = gensim.corpora.Dictionary(tweet for tweet in df['text'])"
   ]
  },
  {
   "cell_type": "code",
   "execution_count": 28,
   "metadata": {},
   "outputs": [
    {
     "data": {
      "text/plain": [
       "26177"
      ]
     },
     "execution_count": 28,
     "metadata": {},
     "output_type": "execute_result"
    }
   ],
   "source": [
    "len(dictionary.token2id)"
   ]
  },
  {
   "cell_type": "markdown",
   "metadata": {},
   "source": [
    "The following code returns a list of tuples with item[0] representing a word id and item[1] representing its document frequency. The top 3 values are present in over 10,000 documents, so they will be removed. "
   ]
  },
  {
   "cell_type": "code",
   "execution_count": 29,
   "metadata": {},
   "outputs": [
    {
     "data": {
      "text/plain": [
       "[(0, 106291),\n",
       " (56, 18194),\n",
       " (77, 13981),\n",
       " (75, 7426),\n",
       " (32, 6362),\n",
       " (91, 6330),\n",
       " (4, 6307),\n",
       " (80, 6170),\n",
       " (264, 5589),\n",
       " (202, 5582),\n",
       " (248, 5477),\n",
       " (48, 5269),\n",
       " (63, 4783),\n",
       " (92, 4744),\n",
       " (121, 4699),\n",
       " (206, 4504),\n",
       " (23, 4365),\n",
       " (204, 4288),\n",
       " (65, 4228),\n",
       " (366, 4213)]"
      ]
     },
     "execution_count": 29,
     "metadata": {},
     "output_type": "execute_result"
    }
   ],
   "source": [
    "sorted_freq = sorted(dictionary.dfs.items(), reverse=True, key=lambda x: x[1])\n",
    "sorted_freq[:20]"
   ]
  },
  {
   "cell_type": "code",
   "execution_count": 30,
   "metadata": {},
   "outputs": [
    {
     "data": {
      "text/plain": [
       "['feel', 'like', 'im']"
      ]
     },
     "execution_count": 30,
     "metadata": {},
     "output_type": "execute_result"
    }
   ],
   "source": [
    "freq_words = []\n",
    "for freq in sorted_freq[:3]:\n",
    "    freq_words.append(list(dictionary.token2id.keys())[freq[0]])\n",
    "freq_words"
   ]
  },
  {
   "cell_type": "markdown",
   "metadata": {},
   "source": [
    "These words don't look like that carry any informative value in emotion detection, so they can be dropped."
   ]
  },
  {
   "cell_type": "code",
   "execution_count": 31,
   "metadata": {},
   "outputs": [
    {
     "data": {
      "text/plain": [
       "0                          [realli, helpless, heavi, heart]\n",
       "1         [ive, enjoy, abl, slouch, relax, unwind, frank...\n",
       "2                      [gave, internship, dmrg, distraught]\n",
       "3                                        [dont, know, lost]\n",
       "4         [kindergarten, teacher, thorough, weari, job, ...\n",
       "                                ...                        \n",
       "107739                [generous, might, get, read, excerpt]\n",
       "107740      [onli, person, entertain, manufactur, conflict]\n",
       "107741                                  [sooooooo, letharg]\n",
       "107742    [probabl, could, add, lot, list, would, onli, ...\n",
       "107743                            [love, belov, mate, morn]\n",
       "Name: text, Length: 107744, dtype: object"
      ]
     },
     "execution_count": 31,
     "metadata": {},
     "output_type": "execute_result"
    }
   ],
   "source": [
    "df['text'] = df['text'].apply(lambda row: removeStopWords(row, freq_words))\n",
    "df['text']"
   ]
  },
  {
   "cell_type": "markdown",
   "metadata": {},
   "source": [
    "There are several words that only appear once in each document. I will show some examples."
   ]
  },
  {
   "cell_type": "code",
   "execution_count": 32,
   "metadata": {},
   "outputs": [
    {
     "data": {
      "text/plain": [
       "[(26167, 1),\n",
       " (26168, 1),\n",
       " (26169, 1),\n",
       " (26170, 1),\n",
       " (26171, 1),\n",
       " (26172, 1),\n",
       " (26173, 1),\n",
       " (26174, 1),\n",
       " (26175, 1),\n",
       " (26176, 1)]"
      ]
     },
     "execution_count": 32,
     "metadata": {},
     "output_type": "execute_result"
    }
   ],
   "source": [
    "sorted_freq[len(sorted_freq)-10:]"
   ]
  },
  {
   "cell_type": "code",
   "execution_count": 33,
   "metadata": {
    "scrolled": true
   },
   "outputs": [
    {
     "data": {
      "text/plain": [
       "['wigan',\n",
       " 'meagr',\n",
       " 'dorkl',\n",
       " 'speedi',\n",
       " 'laiya',\n",
       " 'sustainest',\n",
       " 'videopok',\n",
       " 'stellan',\n",
       " 'iy',\n",
       " 'narcisst']"
      ]
     },
     "execution_count": 33,
     "metadata": {},
     "output_type": "execute_result"
    }
   ],
   "source": [
    "solo_words = []\n",
    "for freq in sorted_freq[len(sorted_freq)-10:]:\n",
    "    solo_words.append(list(dictionary.token2id.keys())[freq[0]])\n",
    "solo_words"
   ]
  },
  {
   "cell_type": "markdown",
   "metadata": {},
   "source": [
    "These words don't seem very helpful now, but I won't drop them yet so I can test different values of `min_df` when vectorizing the text with a `TfidfVectorizer` object."
   ]
  },
  {
   "cell_type": "markdown",
   "metadata": {},
   "source": [
    "#### Text Transformation Function"
   ]
  },
  {
   "cell_type": "markdown",
   "metadata": {},
   "source": [
    "I'll put all the transformations into one function so it'll be easier to transform any other text dataset in place in the same manner."
   ]
  },
  {
   "cell_type": "code",
   "execution_count": 34,
   "metadata": {},
   "outputs": [],
   "source": [
    "def preprocessText(df):\n",
    "    # Basic preprocessing\n",
    "    df['text'] = df['text'].apply(lambda row: gensim.utils.simple_preprocess(row))\n",
    "\n",
    "    # Stemming\n",
    "    stemmer = nltk.stem.SnowballStemmer('english')\n",
    "    df['text'] = df['text'].apply(lambda row: stemming(row, stemmer))\n",
    "\n",
    "    # Removing additional stop words\n",
    "    df['text'] = df['text'].apply(lambda row: removeStopWords(row, stop_words + freq_words))\n",
    "    \n",
    "    return df"
   ]
  },
  {
   "cell_type": "code",
   "execution_count": 35,
   "metadata": {},
   "outputs": [],
   "source": [
    "# Keep original datasets\n",
    "df_equal_original = df_equal\n",
    "df_reduce_original = df_reduce\n",
    "\n",
    "# Preprocess the datasets\n",
    "df_equal = preprocessText(df_equal)\n",
    "df_reduce = preprocessText(df_reduce)"
   ]
  },
  {
   "cell_type": "code",
   "execution_count": 36,
   "metadata": {},
   "outputs": [
    {
     "data": {
      "text/html": [
       "<div>\n",
       "<style scoped>\n",
       "    .dataframe tbody tr th:only-of-type {\n",
       "        vertical-align: middle;\n",
       "    }\n",
       "\n",
       "    .dataframe tbody tr th {\n",
       "        vertical-align: top;\n",
       "    }\n",
       "\n",
       "    .dataframe thead th {\n",
       "        text-align: right;\n",
       "    }\n",
       "</style>\n",
       "<table border=\"1\" class=\"dataframe\">\n",
       "  <thead>\n",
       "    <tr style=\"text-align: right;\">\n",
       "      <th></th>\n",
       "      <th>text</th>\n",
       "      <th>label</th>\n",
       "    </tr>\n",
       "  </thead>\n",
       "  <tbody>\n",
       "    <tr>\n",
       "      <th>0</th>\n",
       "      <td>[realli, helpless, heavi, heart]</td>\n",
       "      <td>4.0</td>\n",
       "    </tr>\n",
       "    <tr>\n",
       "      <th>1</th>\n",
       "      <td>[ive, enjoy, abl, slouch, relax, unwind, frank...</td>\n",
       "      <td>0.0</td>\n",
       "    </tr>\n",
       "    <tr>\n",
       "      <th>2</th>\n",
       "      <td>[gave, internship, dmrg, distraught]</td>\n",
       "      <td>4.0</td>\n",
       "    </tr>\n",
       "    <tr>\n",
       "      <th>3</th>\n",
       "      <td>[dont, know, lost]</td>\n",
       "      <td>0.0</td>\n",
       "    </tr>\n",
       "    <tr>\n",
       "      <th>4</th>\n",
       "      <td>[kindergarten, teacher, thorough, weari, job, ...</td>\n",
       "      <td>4.0</td>\n",
       "    </tr>\n",
       "  </tbody>\n",
       "</table>\n",
       "</div>"
      ],
      "text/plain": [
       "                                                text  label\n",
       "0                   [realli, helpless, heavi, heart]    4.0\n",
       "1  [ive, enjoy, abl, slouch, relax, unwind, frank...    0.0\n",
       "2               [gave, internship, dmrg, distraught]    4.0\n",
       "3                                 [dont, know, lost]    0.0\n",
       "4  [kindergarten, teacher, thorough, weari, job, ...    4.0"
      ]
     },
     "execution_count": 36,
     "metadata": {},
     "output_type": "execute_result"
    }
   ],
   "source": [
    "df.head()"
   ]
  },
  {
   "cell_type": "code",
   "execution_count": 37,
   "metadata": {},
   "outputs": [
    {
     "data": {
      "text/html": [
       "<div>\n",
       "<style scoped>\n",
       "    .dataframe tbody tr th:only-of-type {\n",
       "        vertical-align: middle;\n",
       "    }\n",
       "\n",
       "    .dataframe tbody tr th {\n",
       "        vertical-align: top;\n",
       "    }\n",
       "\n",
       "    .dataframe thead th {\n",
       "        text-align: right;\n",
       "    }\n",
       "</style>\n",
       "<table border=\"1\" class=\"dataframe\">\n",
       "  <thead>\n",
       "    <tr style=\"text-align: right;\">\n",
       "      <th></th>\n",
       "      <th>text</th>\n",
       "      <th>label</th>\n",
       "    </tr>\n",
       "  </thead>\n",
       "  <tbody>\n",
       "    <tr>\n",
       "      <th>6</th>\n",
       "      <td>[would, think, whomev, would, lucki, enough, s...</td>\n",
       "      <td>2.0</td>\n",
       "    </tr>\n",
       "    <tr>\n",
       "      <th>8</th>\n",
       "      <td>[forev, take, time, lie, becaus, weird]</td>\n",
       "      <td>5.0</td>\n",
       "    </tr>\n",
       "    <tr>\n",
       "      <th>9</th>\n",
       "      <td>[still, lose, weight, without, depriv]</td>\n",
       "      <td>0.0</td>\n",
       "    </tr>\n",
       "    <tr>\n",
       "      <th>12</th>\n",
       "      <td>[offici, graduat, ecstat, thought, would]</td>\n",
       "      <td>1.0</td>\n",
       "    </tr>\n",
       "    <tr>\n",
       "      <th>15</th>\n",
       "      <td>[may, bias, next, becaus, depend, life, take, ...</td>\n",
       "      <td>1.0</td>\n",
       "    </tr>\n",
       "  </tbody>\n",
       "</table>\n",
       "</div>"
      ],
      "text/plain": [
       "                                                 text  label\n",
       "6   [would, think, whomev, would, lucki, enough, s...    2.0\n",
       "8             [forev, take, time, lie, becaus, weird]    5.0\n",
       "9              [still, lose, weight, without, depriv]    0.0\n",
       "12          [offici, graduat, ecstat, thought, would]    1.0\n",
       "15  [may, bias, next, becaus, depend, life, take, ...    1.0"
      ]
     },
     "execution_count": 37,
     "metadata": {},
     "output_type": "execute_result"
    }
   ],
   "source": [
    "df_equal.head()"
   ]
  },
  {
   "cell_type": "code",
   "execution_count": 38,
   "metadata": {},
   "outputs": [
    {
     "data": {
      "text/html": [
       "<div>\n",
       "<style scoped>\n",
       "    .dataframe tbody tr th:only-of-type {\n",
       "        vertical-align: middle;\n",
       "    }\n",
       "\n",
       "    .dataframe tbody tr th {\n",
       "        vertical-align: top;\n",
       "    }\n",
       "\n",
       "    .dataframe thead th {\n",
       "        text-align: right;\n",
       "    }\n",
       "</style>\n",
       "<table border=\"1\" class=\"dataframe\">\n",
       "  <thead>\n",
       "    <tr style=\"text-align: right;\">\n",
       "      <th></th>\n",
       "      <th>text</th>\n",
       "      <th>label</th>\n",
       "    </tr>\n",
       "  </thead>\n",
       "  <tbody>\n",
       "    <tr>\n",
       "      <th>0</th>\n",
       "      <td>[realli, helpless, heavi, heart]</td>\n",
       "      <td>4.0</td>\n",
       "    </tr>\n",
       "    <tr>\n",
       "      <th>1</th>\n",
       "      <td>[ive, enjoy, abl, slouch, relax, unwind, frank...</td>\n",
       "      <td>0.0</td>\n",
       "    </tr>\n",
       "    <tr>\n",
       "      <th>2</th>\n",
       "      <td>[gave, internship, dmrg, distraught]</td>\n",
       "      <td>4.0</td>\n",
       "    </tr>\n",
       "    <tr>\n",
       "      <th>4</th>\n",
       "      <td>[kindergarten, teacher, thorough, weari, job, ...</td>\n",
       "      <td>4.0</td>\n",
       "    </tr>\n",
       "    <tr>\n",
       "      <th>6</th>\n",
       "      <td>[would, think, whomev, would, lucki, enough, s...</td>\n",
       "      <td>2.0</td>\n",
       "    </tr>\n",
       "  </tbody>\n",
       "</table>\n",
       "</div>"
      ],
      "text/plain": [
       "                                                text  label\n",
       "0                   [realli, helpless, heavi, heart]    4.0\n",
       "1  [ive, enjoy, abl, slouch, relax, unwind, frank...    0.0\n",
       "2               [gave, internship, dmrg, distraught]    4.0\n",
       "4  [kindergarten, teacher, thorough, weari, job, ...    4.0\n",
       "6  [would, think, whomev, would, lucki, enough, s...    2.0"
      ]
     },
     "execution_count": 38,
     "metadata": {},
     "output_type": "execute_result"
    }
   ],
   "source": [
    "df_reduce.head()"
   ]
  },
  {
   "cell_type": "markdown",
   "metadata": {},
   "source": [
    "## Part 4: Define Your Project Plan\n",
    "\n",
    "Now that you understand your data, in the markdown cell below, define your plan to implement the remaining phases of the machine learning life cycle (data preparation, modeling, evaluation) to solve your ML problem. Answer the following questions:\n",
    "\n",
    "* Do you have a new feature list? If so, what are the features that you chose to keep and remove after inspecting the data? \n",
    "* Explain different data preparation techniques that you will use to prepare your data for modeling.\n",
    "* What is your model (or models)?\n",
    "* Describe your plan to train your model, analyze its performance and then improve the model. That is, describe your model building, validation and selection plan to produce a model that generalizes well to new data. "
   ]
  },
  {
   "cell_type": "markdown",
   "metadata": {},
   "source": [
    "1. I do not have a new feature list, as the only feature is the `text` column. However, this column has been preprocessed by tokenizing each Tweet into an array of words, removing punctuation, putting all letters into lowercase, removing stop words, and performing stemming on the words. I also created two other DataFrames `df_equal` and `df_reduce` which aim to balance out the classes, and will be separately tested with the models.\n",
    "2. To prepare my data for modeling, I will vectorize the text into features using TF-IDF, which calculates significance of a word to a certain document, with consideration for the frequency of the word in the document and the corpus, with higher values indicating high importance. This specific dataset should work well with TF-IDF because it has high-frequency words. Some of the most frequent words that weren't removed have frequencies between 4000 and 7000, compared to the class sizes [31634, 36461, 8872, 14624, 12222, 3931]. The corpus also has a relatively low vocabulary of around 26000 words. I will also split the data into training, validation, and test sets to be able to effectively evaluate the model.\n",
    "3. First, I'll use a decision tree as a baseline model because of it's explainability, simplicity, and ability to be used in multiclass classification. I'll also use it to determine feature importance. Then, since the data is more complex and may require a more complex model, I'll test random forest. (A potential issue with this ensemble methods is that it may run slowly because of the high dimensionality.) Finally, if these models don't perform well, I will try to create a neural network that properly captures the complex relationships in the data.\n",
    "4. Model building: I will build the Decision Tree and Random Forest Classifier models using scikit-learn. I will build a neural network using Keras from Tensorflow. <br>\n",
    "Model training: I will split the data into training, validation, and test sets. For each of these models, I will iterate through different hyperparameters (ex. max_depth, n_estimators, and hidden layers, respectively) in order to minimize overfitting while trying to create an effective model. I will use GridSearch to test multiple parameters and cross-validate them efficiently. In the process, I’ll note other details such as time to train or how many parameters need to be trained (NN). <br>\n",
    "Model evaluation: I created a validation set so the evaluation metrics of all three models can be compared on the same dataset. To assess the performance of each model, I will use a variety of metrics including overall accuracy, average precision score (across classes), and f1_score (per class), as well as create a confusion matrix for each model. Besides being able to measure how accurate the model is, I can also see the certainty of the model’s predictions, the model’s performance across different classes, as well as more details about its misclassifications (ex. commonly mixing up “joy” and “love”). <br>\n",
    "Model selection: I will create graphs of the evaluation metrics side by side and pick the model with the overall best performance. I will also consider the time and complexity of each model, and whether it’s worth the increased accuracy it may bring.<br>"
   ]
  },
  {
   "cell_type": "markdown",
   "metadata": {},
   "source": [
    "## Part 5: Implement Your Project Plan\n",
    "\n",
    "<b>Task:</b> In the code cell below, import additional packages that you have used in this course that you will need to implement your project plan."
   ]
  },
  {
   "cell_type": "code",
   "execution_count": 39,
   "metadata": {},
   "outputs": [],
   "source": [
    "from sklearn.feature_extraction.text import TfidfVectorizer"
   ]
  },
  {
   "cell_type": "markdown",
   "metadata": {},
   "source": [
    "<b>Task:</b> Use the rest of this notebook to carry out your project plan. \n",
    "\n",
    "You will:\n",
    "\n",
    "1. Prepare your data for your model.\n",
    "2. Fit your model to the training data and evaluate your model.\n",
    "3. Improve your model's performance by performing model selection and/or feature selection techniques to find best model for your problem.\n",
    "\n",
    "Add code cells below and populate the notebook with commentary, code, analyses, results, and figures as you see fit. "
   ]
  },
  {
   "cell_type": "markdown",
   "metadata": {},
   "source": [
    "### Preparing Data for Modeling"
   ]
  },
  {
   "cell_type": "markdown",
   "metadata": {},
   "source": [
    "#### Creating Labelled Examples"
   ]
  },
  {
   "cell_type": "markdown",
   "metadata": {},
   "source": [
    "*When running my code, I got a memory error because the `X_tfidf.todense()` array was too big. To resolve this, I decided to use one of the smaller datasets I prepared previously, which cuts the size of the two most represented classes, \"joy\" and \"sadness\", in half."
   ]
  },
  {
   "cell_type": "code",
   "execution_count": 40,
   "metadata": {},
   "outputs": [],
   "source": [
    "from sklearn.model_selection import train_test_split"
   ]
  },
  {
   "cell_type": "code",
   "execution_count": 41,
   "metadata": {},
   "outputs": [
    {
     "data": {
      "text/plain": [
       "(73697,)"
      ]
     },
     "execution_count": 41,
     "metadata": {},
     "output_type": "execute_result"
    }
   ],
   "source": [
    "X = df_reduce['text']\n",
    "y = df_reduce['label']\n",
    "X.shape"
   ]
  },
  {
   "cell_type": "code",
   "execution_count": 42,
   "metadata": {},
   "outputs": [],
   "source": [
    "X_all_train, X_test, y_all_train, y_test = train_test_split(X, y, test_size=.10, random_state=1234)"
   ]
  },
  {
   "cell_type": "markdown",
   "metadata": {},
   "source": [
    "Since we are performing model selection, I'll also split the training subsets into separate training and validation sets."
   ]
  },
  {
   "cell_type": "code",
   "execution_count": 43,
   "metadata": {},
   "outputs": [],
   "source": [
    "X_train, X_val, y_train, y_val = train_test_split(X_all_train, y_all_train, test_size=.22, random_state=1234)"
   ]
  },
  {
   "cell_type": "code",
   "execution_count": 44,
   "metadata": {},
   "outputs": [
    {
     "name": "stdout",
     "output_type": "stream",
     "text": [
      "(73697,)\n",
      "(51735,)\n",
      "(14592,)\n",
      "(7370,)\n"
     ]
    }
   ],
   "source": [
    "print(X.shape)\n",
    "print(X_train.shape)\n",
    "print(X_val.shape)\n",
    "print(X_test.shape)"
   ]
  },
  {
   "cell_type": "markdown",
   "metadata": {},
   "source": [
    "I did a roughly 70/20/10 split for training, validation, and test sets."
   ]
  },
  {
   "cell_type": "code",
   "execution_count": 45,
   "metadata": {},
   "outputs": [
    {
     "name": "stdout",
     "output_type": "stream",
     "text": [
      "Train:0.7019960106924298%\n",
      "Val:0.1979999185855598%\n",
      "Test:0.1000040707220104%\n"
     ]
    }
   ],
   "source": [
    "print(\"Train:\" + str(51735/73697) + \"%\")\n",
    "print(\"Val:\" + str(14592/73697) + \"%\")\n",
    "print(\"Test:\" + str(7370/73697) + \"%\")"
   ]
  },
  {
   "cell_type": "markdown",
   "metadata": {},
   "source": [
    "#### Text Vectorization\n",
    "I will vectorize the text into features using TF-IDF with the `TfidfVectorizer` from scikit-learn."
   ]
  },
  {
   "cell_type": "code",
   "execution_count": 46,
   "metadata": {
    "scrolled": true
   },
   "outputs": [
    {
     "name": "stderr",
     "output_type": "stream",
     "text": [
      "/home/ubuntu/.pyenv/versions/3.9.19/lib/python3.9/site-packages/sklearn/feature_extraction/text.py:525: UserWarning: The parameter 'token_pattern' will not be used since 'tokenizer' is not None'\n",
      "  warnings.warn(\n"
     ]
    },
    {
     "name": "stdout",
     "output_type": "stream",
     "text": [
      "Vocabulary size 18401: \n",
      "[('tire', 16341), ('drain', 4584), ('got', 6616), ('home', 7384), ('surpris', 15679), ('packag', 11581), ('veri', 17376), ('sweet', 15738), ('wonder', 18026), ('woman', 18020), ('meet', 9952), ('trip', 16627), ('someth', 14924), ('funni', 6215), ('chest', 2625), ('would', 18090), ('rather', 12998), ('tini', 16322), ('ice', 7644), ('cream', 3469), ('cone', 3152), ('instead', 8034), ('regular', 13213), ('size', 14613), ('strong', 15465), ('think', 16183), ('makeup', 9661), ('doe', 4450), ('brilliant', 1956), ('job', 8437), ('make', 9659), ('us', 17227), ('better', 1475), ('improv', 7800), ('outer', 11448), ('beauti', 1328), ('none', 10997), ('becaus', 1334), ('hopeless', 7442), ('romant', 13610), ('shroud', 14479), ('realiti', 13048), ('know', 8842), ('fact', 5451), ('person', 11943), ('guess', 6809), ('id', 7658), ('wake', 17585), ('morn', 10425), ('live', 9339)]\n",
      "\n",
      "[[0. 0. 0. ... 0. 0. 0.]\n",
      " [0. 0. 0. ... 0. 0. 0.]\n",
      " [0. 0. 0. ... 0. 0. 0.]\n",
      " ...\n",
      " [0. 0. 0. ... 0. 0. 0.]\n",
      " [0. 0. 0. ... 0. 0. 0.]\n",
      " [0. 0. 0. ... 0. 0. 0.]]\n"
     ]
    }
   ],
   "source": [
    "# 1. Create a TfidfVectorizer object, override preprocessing and tokenizing steps\n",
    "tfidf_vectorizer = TfidfVectorizer(preprocessor=lambda x: x, tokenizer=lambda x: x)\n",
    "\n",
    "# 2. Fit the vectorizer to X\n",
    "tfidf_vectorizer.fit(X_train)\n",
    "\n",
    "# 3. Print the first 50 items in the vocabulary\n",
    "print(\"Vocabulary size {0}: \".format(len(tfidf_vectorizer.vocabulary_)))\n",
    "print(str(list(tfidf_vectorizer.vocabulary_.items())[0:50])+'\\n')\n",
    "\n",
    "# 4. Transform the data using the fitted vectorizer and its 'transform' attribute\n",
    "X_train_tfidf = tfidf_vectorizer.transform(X_train)\n",
    "X_val_tfidf = tfidf_vectorizer.transform(X_val)\n",
    "X_test_tfidf = tfidf_vectorizer.transform(X_test)\n",
    "\n",
    "# 5. Print the matrix\n",
    "print(X_train_tfidf.todense())"
   ]
  },
  {
   "cell_type": "markdown",
   "metadata": {},
   "source": [
    "### Testing Different Models"
   ]
  },
  {
   "cell_type": "markdown",
   "metadata": {},
   "source": [
    "#### Decision Tree\n",
    "\n",
    "<b>Finding best hyperparameters:</b>\n",
    "\n",
    "I will use scikit-learn's `GridSearchCV` class to search over different combinations of possible hyperparameter values to find the set that results in the best cross-validation (CV) score. The cross-validation will be done on the 70% of the data set aside for training."
   ]
  },
  {
   "cell_type": "code",
   "execution_count": 47,
   "metadata": {},
   "outputs": [],
   "source": [
    "from sklearn.tree import DecisionTreeClassifier\n",
    "from sklearn.metrics import accuracy_score\n",
    "from sklearn.model_selection import GridSearchCV"
   ]
  },
  {
   "cell_type": "code",
   "execution_count": 48,
   "metadata": {},
   "outputs": [
    {
     "data": {
      "text/plain": [
       "{'max_depth': [8, 32, 128, 512, 2048], 'min_samples_leaf': [25, 50, 100]}"
      ]
     },
     "execution_count": 48,
     "metadata": {},
     "output_type": "execute_result"
    }
   ],
   "source": [
    "hyp_dict_DT = {\"max_depth\": [8*(4**(n-1)) for n in range(1,6)], \"min_samples_leaf\": [25*2**n for n in range(0,3)]}\n",
    "# {'max_depth': [8, 32, 128, 512, 2048], 'min_samples_leaf': [25, 50, 100]}\n",
    "\n",
    "# Temporarily manually input optimal hyperparameters to speed up runtime when kernel dies.\n",
    "# hyp_dict_DT = {\"max_depth\": [512], \"min_samples_leaf\": [25]}\n",
    "hyp_dict_DT"
   ]
  },
  {
   "cell_type": "code",
   "execution_count": 49,
   "metadata": {},
   "outputs": [
    {
     "name": "stdout",
     "output_type": "stream",
     "text": [
      "Running Grid Search...\n",
      "Done\n"
     ]
    }
   ],
   "source": [
    "print('Running Grid Search...')\n",
    "\n",
    "# 1. Create a DecisionTreeClassifier model \n",
    "model = DecisionTreeClassifier()\n",
    " \n",
    "# 2. Run a Grid Search with 5-fold cross-validation using the model.\n",
    "grid = GridSearchCV(model, hyp_dict_DT, cv=5)\n",
    "\n",
    "# 3. Fit the model on the training data\n",
    "grid_search = grid.fit(X_train_tfidf, y_train)\n",
    "\n",
    "print('Done')"
   ]
  },
  {
   "cell_type": "code",
   "execution_count": 50,
   "metadata": {},
   "outputs": [
    {
     "name": "stdout",
     "output_type": "stream",
     "text": [
      "Optimal hyperparameters: {'max_depth': 2048, 'min_samples_leaf': 25}\n",
      "Accuracy score: 0.8120034792693535\n"
     ]
    }
   ],
   "source": [
    "print('Optimal hyperparameters: {0}'.format(grid_search.best_params_))\n",
    "print('Accuracy score: {0}'.format(grid_search.best_score_))\n",
    "best_max_depth = grid_search.best_params_['max_depth']\n",
    "best_min_leaf = grid_search.best_params_['min_samples_leaf']"
   ]
  },
  {
   "cell_type": "markdown",
   "metadata": {},
   "source": [
    "<b>Identifying most important features:</b>"
   ]
  },
  {
   "cell_type": "markdown",
   "metadata": {},
   "source": [
    "I will inspect some of the words that the decision tree sees as important for decision making."
   ]
  },
  {
   "cell_type": "code",
   "execution_count": 51,
   "metadata": {},
   "outputs": [
    {
     "data": {
      "text/plain": [
       "array([0., 0., 0., 0., 0.])"
      ]
     },
     "execution_count": 51,
     "metadata": {},
     "output_type": "execute_result"
    }
   ],
   "source": [
    "best_DT = DecisionTreeClassifier(min_samples_leaf = best_min_leaf, max_depth = best_max_depth, criterion = 'entropy')\n",
    "best_DT.fit(X_train_tfidf, y_train)\n",
    "\n",
    "fi = best_DT.feature_importances_\n",
    "fi[:5]"
   ]
  },
  {
   "cell_type": "code",
   "execution_count": 52,
   "metadata": {},
   "outputs": [
    {
     "data": {
      "text/plain": [
       "Text(0, 0.5, 'Normalized importance')"
      ]
     },
     "execution_count": 52,
     "metadata": {},
     "output_type": "execute_result"
    },
    {
     "data": {
      "image/png": "[encoded data removed]",
      "text/plain": [
       "<Figure size 640x480 with 1 Axes>"
      ]
     },
     "metadata": {},
     "output_type": "display_data"
    }
   ],
   "source": [
    "names_sorted = [x for _,x in sorted(zip(fi, range(X_train_tfidf.shape[0])), reverse = True)]\n",
    "fig, ax = plt.subplots()\n",
    "ax.bar(np.arange(10), sorted(best_DT.feature_importances_, reverse=True)[:10], width = 0.35)\n",
    "ax.set_xticks(np.arange(10))\n",
    "ax.set_xticklabels(names_sorted[:10], rotation = 90)\n",
    "plt.title('Feature importance from DT')\n",
    "ax.set_ylabel('Normalized importance')"
   ]
  },
  {
   "cell_type": "code",
   "execution_count": 53,
   "metadata": {},
   "outputs": [
    {
     "name": "stdout",
     "output_type": "stream",
     "text": [
      "1. amaz\n",
      "2. love\n",
      "3. funni\n",
      "4. surpris\n",
      "5. weird\n",
      "6. overwhelm\n",
      "7. daze\n",
      "8. curious\n",
      "9. strang\n",
      "10. shock\n"
     ]
    }
   ],
   "source": [
    "vocab = tfidf_vectorizer.vocabulary_\n",
    "for i in range(10):\n",
    "    print(str(i+1) + \". \" + list(vocab.keys())[list(vocab.values()).index(names_sorted[i])])"
   ]
  },
  {
   "cell_type": "markdown",
   "metadata": {},
   "source": [
    "It makes sense to split on these words: many of them are strongly correlated with certain emotions. Words that directly describe the emotions are here, such as \"love\" and \"surprise\". "
   ]
  },
  {
   "cell_type": "markdown",
   "metadata": {},
   "source": [
    "<b>Confusion matrix:</b>"
   ]
  },
  {
   "cell_type": "code",
   "execution_count": 54,
   "metadata": {},
   "outputs": [],
   "source": [
    "from sklearn.metrics import confusion_matrix"
   ]
  },
  {
   "cell_type": "code",
   "execution_count": 55,
   "metadata": {},
   "outputs": [
    {
     "name": "stdout",
     "output_type": "stream",
     "text": [
      "Confusion Matrix for the model: Predicted (Columns) x Actual (Rows)\n"
     ]
    },
    {
     "data": {
      "text/html": [
       "<div>\n",
       "<style scoped>\n",
       "    .dataframe tbody tr th:only-of-type {\n",
       "        vertical-align: middle;\n",
       "    }\n",
       "\n",
       "    .dataframe tbody tr th {\n",
       "        vertical-align: top;\n",
       "    }\n",
       "\n",
       "    .dataframe thead th {\n",
       "        text-align: right;\n",
       "    }\n",
       "</style>\n",
       "<table border=\"1\" class=\"dataframe\">\n",
       "  <thead>\n",
       "    <tr style=\"text-align: right;\">\n",
       "      <th></th>\n",
       "      <th>P: sadness</th>\n",
       "      <th>joy</th>\n",
       "      <th>love</th>\n",
       "      <th>anger</th>\n",
       "      <th>fear</th>\n",
       "      <th>surprise</th>\n",
       "    </tr>\n",
       "  </thead>\n",
       "  <tbody>\n",
       "    <tr>\n",
       "      <th>A: sadness</th>\n",
       "      <td>2478</td>\n",
       "      <td>119</td>\n",
       "      <td>131</td>\n",
       "      <td>221</td>\n",
       "      <td>148</td>\n",
       "      <td>33</td>\n",
       "    </tr>\n",
       "    <tr>\n",
       "      <th>joy</th>\n",
       "      <td>178</td>\n",
       "      <td>2822</td>\n",
       "      <td>392</td>\n",
       "      <td>102</td>\n",
       "      <td>77</td>\n",
       "      <td>87</td>\n",
       "    </tr>\n",
       "    <tr>\n",
       "      <th>love</th>\n",
       "      <td>36</td>\n",
       "      <td>226</td>\n",
       "      <td>1455</td>\n",
       "      <td>23</td>\n",
       "      <td>17</td>\n",
       "      <td>21</td>\n",
       "    </tr>\n",
       "    <tr>\n",
       "      <th>anger</th>\n",
       "      <td>53</td>\n",
       "      <td>141</td>\n",
       "      <td>87</td>\n",
       "      <td>2392</td>\n",
       "      <td>149</td>\n",
       "      <td>18</td>\n",
       "    </tr>\n",
       "    <tr>\n",
       "      <th>fear</th>\n",
       "      <td>46</td>\n",
       "      <td>62</td>\n",
       "      <td>64</td>\n",
       "      <td>77</td>\n",
       "      <td>2045</td>\n",
       "      <td>119</td>\n",
       "    </tr>\n",
       "    <tr>\n",
       "      <th>surprise</th>\n",
       "      <td>1</td>\n",
       "      <td>16</td>\n",
       "      <td>19</td>\n",
       "      <td>3</td>\n",
       "      <td>125</td>\n",
       "      <td>609</td>\n",
       "    </tr>\n",
       "  </tbody>\n",
       "</table>\n",
       "</div>"
      ],
      "text/plain": [
       "            P: sadness   joy  love  anger  fear  surprise\n",
       "A: sadness        2478   119   131    221   148        33\n",
       "joy                178  2822   392    102    77        87\n",
       "love                36   226  1455     23    17        21\n",
       "anger               53   141    87   2392   149        18\n",
       "fear                46    62    64     77  2045       119\n",
       "surprise             1    16    19      3   125       609"
      ]
     },
     "execution_count": 55,
     "metadata": {},
     "output_type": "execute_result"
    }
   ],
   "source": [
    "# Display a confusion matrix\n",
    "print('Confusion Matrix for the model: Predicted (Columns) x Actual (Rows)')\n",
    "\n",
    "# Creating confusion matrix based on validation accuracy\n",
    "class_label_predictions = best_DT.predict(X_val_tfidf)\n",
    "c_m = confusion_matrix(y_val, class_label_predictions, labels=[0,1,2,3,4,5])\n",
    "\n",
    "# Create a Pandas DataFrame out of the confusion matrix for display purposes\n",
    "cm_DT = pd.DataFrame(\n",
    "c_m,\n",
    "columns=['P: sadness', 'joy', 'love', 'anger', 'fear', 'surprise'],\n",
    "index=['A: sadness', 'joy', 'love', 'anger', 'fear', 'surprise'])\n",
    "cm_DT"
   ]
  },
  {
   "cell_type": "markdown",
   "metadata": {},
   "source": [
    "<b>Accuracy Score (on validation set): </b>"
   ]
  },
  {
   "cell_type": "code",
   "execution_count": 56,
   "metadata": {},
   "outputs": [
    {
     "name": "stdout",
     "output_type": "stream",
     "text": [
      "Accuracy Score: 0.8087308114035088\n"
     ]
    }
   ],
   "source": [
    "pred_DT = best_DT.predict(X_val_tfidf)\n",
    "acc_DT = accuracy_score(y_val, pred_DT)\n",
    "print(\"Accuracy Score: {}\".format(acc_DT))"
   ]
  },
  {
   "cell_type": "markdown",
   "metadata": {},
   "source": [
    "<b>Average Precision Score:</b>"
   ]
  },
  {
   "cell_type": "code",
   "execution_count": 57,
   "metadata": {},
   "outputs": [],
   "source": [
    "from sklearn.preprocessing import label_binarize\n",
    "from sklearn.metrics import average_precision_score\n",
    "from sklearn.metrics import f1_score"
   ]
  },
  {
   "cell_type": "code",
   "execution_count": 58,
   "metadata": {},
   "outputs": [],
   "source": [
    "y_score_DT = best_DT.predict_proba(X_val_tfidf)\n",
    "# Converts probabilities into binary\n",
    "y_val_binary_DT = label_binarize(y_val, classes=[0, 1, 2, 3, 4, 5])"
   ]
  },
  {
   "cell_type": "code",
   "execution_count": 59,
   "metadata": {},
   "outputs": [
    {
     "name": "stdout",
     "output_type": "stream",
     "text": [
      "Average precision score: 0.8641237732640095\n"
     ]
    }
   ],
   "source": [
    "ap_score_DT = average_precision_score(y_val_binary_DT, y_score_DT)\n",
    "print(\"Average precision score: {}\".format(ap_score_DT))"
   ]
  },
  {
   "cell_type": "markdown",
   "metadata": {},
   "source": [
    "<b>F1 Score:</b>"
   ]
  },
  {
   "cell_type": "code",
   "execution_count": 60,
   "metadata": {},
   "outputs": [
    {
     "name": "stdout",
     "output_type": "stream",
     "text": [
      "F1 Score: [0.83687943 0.80124929 0.74121243 0.84552846 0.82227583 0.73373494]\n"
     ]
    }
   ],
   "source": [
    "y_pred_DT = best_DT.predict(X_val_tfidf)\n",
    "f1_score_DT = f1_score(y_val, y_pred_DT, average=None)\n",
    "print(\"F1 Score: {}\".format(f1_score_DT))"
   ]
  },
  {
   "cell_type": "markdown",
   "metadata": {},
   "source": [
    "*['sadness', 'joy', 'love', 'anger', 'fear', 'surprise']\n",
    "\n",
    "The f1_score is a harmonic mean of precision and recall. Each element in the array represents the f1_score for each class, and since they are relatively similar, the model performs similarly well across classes."
   ]
  },
  {
   "cell_type": "markdown",
   "metadata": {},
   "source": [
    "#### Random Forest\n",
    "\n",
    "Next, I will test the performance of a Random Forest model."
   ]
  },
  {
   "cell_type": "code",
   "execution_count": 61,
   "metadata": {},
   "outputs": [],
   "source": [
    "from sklearn.ensemble import RandomForestClassifier"
   ]
  },
  {
   "cell_type": "code",
   "execution_count": 62,
   "metadata": {},
   "outputs": [],
   "source": [
    "# n_estimators = [20]\n",
    "# Temporarily set to just one value to speed up runtime when kernel dies.\n",
    "n_estimators = [20,75,100]"
   ]
  },
  {
   "cell_type": "markdown",
   "metadata": {},
   "source": [
    "*I would have used scikit-learn's `validation_curve` to perform 5-fold cross validation, but it was taking a while to run on my computer so I decided to loop through n_estimators manually and use the X_val subset I created earlier for validation."
   ]
  },
  {
   "cell_type": "code",
   "execution_count": 63,
   "metadata": {},
   "outputs": [],
   "source": [
    "def train_test_RF(X_train, X_val, y_train, y_val, n_estimators, criterion='entropy'):\n",
    "    RF_model = RandomForestClassifier(criterion='entropy', n_estimators=n)\n",
    "    RF_model.fit(X_train_tfidf, y_train)\n",
    "    RF_predictions = RF_model.predict(X_val_tfidf)\n",
    "    return accuracy_score(y_val, RF_predictions)"
   ]
  },
  {
   "cell_type": "code",
   "execution_count": 64,
   "metadata": {},
   "outputs": [
    {
     "name": "stdout",
     "output_type": "stream",
     "text": [
      "Implementing Random Forest...\n",
      "N-Estimators = 20: Validation accuracy: 0.8397066885964912\n",
      "N-Estimators = 75: Validation accuracy: 0.8492324561403509\n",
      "N-Estimators = 100: Validation accuracy: 0.8519736842105263\n",
      "Done!\n"
     ]
    }
   ],
   "source": [
    "print('Implementing Random Forest...')\n",
    "RF_acc = []\n",
    "for n in n_estimators:\n",
    "    acc_score = train_test_RF(X_train_tfidf, X_val_tfidf, y_train, y_val, n_estimators=n)\n",
    "    print(\"N-Estimators = {}: \".format(n) + \"Validation accuracy: {}\".format(acc_score))\n",
    "    RF_acc.append(acc_score)\n",
    "print(\"Done!\")"
   ]
  },
  {
   "cell_type": "code",
   "execution_count": 65,
   "metadata": {},
   "outputs": [
    {
     "data": {
      "image/png": "[encoded data removed]",
      "text/plain": [
       "<Figure size 640x480 with 1 Axes>"
      ]
     },
     "metadata": {},
     "output_type": "display_data"
    }
   ],
   "source": [
    "fig = plt.figure()\n",
    "ax = fig.add_subplot(111)\n",
    "p = sns.lineplot(x=n_estimators, y=RF_acc, marker='o', label = 'Full training set')\n",
    "\n",
    "plt.title('Test set accuracy of the RF predictions')\n",
    "ax.set_xlabel('max_depth')\n",
    "ax.set_ylabel('Accuracy')\n",
    "plt.show()"
   ]
  },
  {
   "cell_type": "markdown",
   "metadata": {},
   "source": [
    "Since increasing the n_estimators from 20 to 100 barely impacts accuracy while significantly increasing the time, I will use `N-Estimators = 20`."
   ]
  },
  {
   "cell_type": "code",
   "execution_count": 66,
   "metadata": {},
   "outputs": [
    {
     "data": {
      "text/html": [
       "<style>#sk-container-id-1 {\n",
       "  /* Definition of color scheme common for light and dark mode */\n",
       "  --sklearn-color-text: black;\n",
       "  --sklearn-color-line: gray;\n",
       "  /* Definition of color scheme for unfitted estimators */\n",
       "  --sklearn-color-unfitted-level-0: #fff5e6;\n",
       "  --sklearn-color-unfitted-level-1: #f6e4d2;\n",
       "  --sklearn-color-unfitted-level-2: #ffe0b3;\n",
       "  --sklearn-color-unfitted-level-3: chocolate;\n",
       "  /* Definition of color scheme for fitted estimators */\n",
       "  --sklearn-color-fitted-level-0: #f0f8ff;\n",
       "  --sklearn-color-fitted-level-1: #d4ebff;\n",
       "  --sklearn-color-fitted-level-2: #b3dbfd;\n",
       "  --sklearn-color-fitted-level-3: cornflowerblue;\n",
       "\n",
       "  /* Specific color for light theme */\n",
       "  --sklearn-color-text-on-default-background: var(--sg-text-color, var(--theme-code-foreground, var(--jp-content-font-color1, black)));\n",
       "  --sklearn-color-background: var(--sg-background-color, var(--theme-background, var(--jp-layout-color0, white)));\n",
       "  --sklearn-color-border-box: var(--sg-text-color, var(--theme-code-foreground, var(--jp-content-font-color1, black)));\n",
       "  --sklearn-color-icon: #696969;\n",
       "\n",
       "  @media (prefers-color-scheme: dark) {\n",
       "    /* Redefinition of color scheme for dark theme */\n",
       "    --sklearn-color-text-on-default-background: var(--sg-text-color, var(--theme-code-foreground, var(--jp-content-font-color1, white)));\n",
       "    --sklearn-color-background: var(--sg-background-color, var(--theme-background, var(--jp-layout-color0, #111)));\n",
       "    --sklearn-color-border-box: var(--sg-text-color, var(--theme-code-foreground, var(--jp-content-font-color1, white)));\n",
       "    --sklearn-color-icon: #878787;\n",
       "  }\n",
       "}\n",
       "\n",
       "#sk-container-id-1 {\n",
       "  color: var(--sklearn-color-text);\n",
       "}\n",
       "\n",
       "#sk-container-id-1 pre {\n",
       "  padding: 0;\n",
       "}\n",
       "\n",
       "#sk-container-id-1 input.sk-hidden--visually {\n",
       "  border: 0;\n",
       "  clip: rect(1px 1px 1px 1px);\n",
       "  clip: rect(1px, 1px, 1px, 1px);\n",
       "  height: 1px;\n",
       "  margin: -1px;\n",
       "  overflow: hidden;\n",
       "  padding: 0;\n",
       "  position: absolute;\n",
       "  width: 1px;\n",
       "}\n",
       "\n",
       "#sk-container-id-1 div.sk-dashed-wrapped {\n",
       "  border: 1px dashed var(--sklearn-color-line);\n",
       "  margin: 0 0.4em 0.5em 0.4em;\n",
       "  box-sizing: border-box;\n",
       "  padding-bottom: 0.4em;\n",
       "  background-color: var(--sklearn-color-background);\n",
       "}\n",
       "\n",
       "#sk-container-id-1 div.sk-container {\n",
       "  /* jupyter's `normalize.less` sets `[hidden] { display: none; }`\n",
       "     but bootstrap.min.css set `[hidden] { display: none !important; }`\n",
       "     so we also need the `!important` here to be able to override the\n",
       "     default hidden behavior on the sphinx rendered scikit-learn.org.\n",
       "     See: https://github.com/scikit-learn/scikit-learn/issues/21755 */\n",
       "  display: inline-block !important;\n",
       "  position: relative;\n",
       "}\n",
       "\n",
       "#sk-container-id-1 div.sk-text-repr-fallback {\n",
       "  display: none;\n",
       "}\n",
       "\n",
       "div.sk-parallel-item,\n",
       "div.sk-serial,\n",
       "div.sk-item {\n",
       "  /* draw centered vertical line to link estimators */\n",
       "  background-image: linear-gradient(var(--sklearn-color-text-on-default-background), var(--sklearn-color-text-on-default-background));\n",
       "  background-size: 2px 100%;\n",
       "  background-repeat: no-repeat;\n",
       "  background-position: center center;\n",
       "}\n",
       "\n",
       "/* Parallel-specific style estimator block */\n",
       "\n",
       "#sk-container-id-1 div.sk-parallel-item::after {\n",
       "  content: \"\";\n",
       "  width: 100%;\n",
       "  border-bottom: 2px solid var(--sklearn-color-text-on-default-background);\n",
       "  flex-grow: 1;\n",
       "}\n",
       "\n",
       "#sk-container-id-1 div.sk-parallel {\n",
       "  display: flex;\n",
       "  align-items: stretch;\n",
       "  justify-content: center;\n",
       "  background-color: var(--sklearn-color-background);\n",
       "  position: relative;\n",
       "}\n",
       "\n",
       "#sk-container-id-1 div.sk-parallel-item {\n",
       "  display: flex;\n",
       "  flex-direction: column;\n",
       "}\n",
       "\n",
       "#sk-container-id-1 div.sk-parallel-item:first-child::after {\n",
       "  align-self: flex-end;\n",
       "  width: 50%;\n",
       "}\n",
       "\n",
       "#sk-container-id-1 div.sk-parallel-item:last-child::after {\n",
       "  align-self: flex-start;\n",
       "  width: 50%;\n",
       "}\n",
       "\n",
       "#sk-container-id-1 div.sk-parallel-item:only-child::after {\n",
       "  width: 0;\n",
       "}\n",
       "\n",
       "/* Serial-specific style estimator block */\n",
       "\n",
       "#sk-container-id-1 div.sk-serial {\n",
       "  display: flex;\n",
       "  flex-direction: column;\n",
       "  align-items: center;\n",
       "  background-color: var(--sklearn-color-background);\n",
       "  padding-right: 1em;\n",
       "  padding-left: 1em;\n",
       "}\n",
       "\n",
       "\n",
       "/* Toggleable style: style used for estimator/Pipeline/ColumnTransformer box that is\n",
       "clickable and can be expanded/collapsed.\n",
       "- Pipeline and ColumnTransformer use this feature and define the default style\n",
       "- Estimators will overwrite some part of the style using the `sk-estimator` class\n",
       "*/\n",
       "\n",
       "/* Pipeline and ColumnTransformer style (default) */\n",
       "\n",
       "#sk-container-id-1 div.sk-toggleable {\n",
       "  /* Default theme specific background. It is overwritten whether we have a\n",
       "  specific estimator or a Pipeline/ColumnTransformer */\n",
       "  background-color: var(--sklearn-color-background);\n",
       "}\n",
       "\n",
       "/* Toggleable label */\n",
       "#sk-container-id-1 label.sk-toggleable__label {\n",
       "  cursor: pointer;\n",
       "  display: block;\n",
       "  width: 100%;\n",
       "  margin-bottom: 0;\n",
       "  padding: 0.5em;\n",
       "  box-sizing: border-box;\n",
       "  text-align: center;\n",
       "}\n",
       "\n",
       "#sk-container-id-1 label.sk-toggleable__label-arrow:before {\n",
       "  /* Arrow on the left of the label */\n",
       "  content: \"▸\";\n",
       "  float: left;\n",
       "  margin-right: 0.25em;\n",
       "  color: var(--sklearn-color-icon);\n",
       "}\n",
       "\n",
       "#sk-container-id-1 label.sk-toggleable__label-arrow:hover:before {\n",
       "  color: var(--sklearn-color-text);\n",
       "}\n",
       "\n",
       "/* Toggleable content - dropdown */\n",
       "\n",
       "#sk-container-id-1 div.sk-toggleable__content {\n",
       "  max-height: 0;\n",
       "  max-width: 0;\n",
       "  overflow: hidden;\n",
       "  text-align: left;\n",
       "  /* unfitted */\n",
       "  background-color: var(--sklearn-color-unfitted-level-0);\n",
       "}\n",
       "\n",
       "#sk-container-id-1 div.sk-toggleable__content.fitted {\n",
       "  /* fitted */\n",
       "  background-color: var(--sklearn-color-fitted-level-0);\n",
       "}\n",
       "\n",
       "#sk-container-id-1 div.sk-toggleable__content pre {\n",
       "  margin: 0.2em;\n",
       "  border-radius: 0.25em;\n",
       "  color: var(--sklearn-color-text);\n",
       "  /* unfitted */\n",
       "  background-color: var(--sklearn-color-unfitted-level-0);\n",
       "}\n",
       "\n",
       "#sk-container-id-1 div.sk-toggleable__content.fitted pre {\n",
       "  /* unfitted */\n",
       "  background-color: var(--sklearn-color-fitted-level-0);\n",
       "}\n",
       "\n",
       "#sk-container-id-1 input.sk-toggleable__control:checked~div.sk-toggleable__content {\n",
       "  /* Expand drop-down */\n",
       "  max-height: 200px;\n",
       "  max-width: 100%;\n",
       "  overflow: auto;\n",
       "}\n",
       "\n",
       "#sk-container-id-1 input.sk-toggleable__control:checked~label.sk-toggleable__label-arrow:before {\n",
       "  content: \"▾\";\n",
       "}\n",
       "\n",
       "/* Pipeline/ColumnTransformer-specific style */\n",
       "\n",
       "#sk-container-id-1 div.sk-label input.sk-toggleable__control:checked~label.sk-toggleable__label {\n",
       "  color: var(--sklearn-color-text);\n",
       "  background-color: var(--sklearn-color-unfitted-level-2);\n",
       "}\n",
       "\n",
       "#sk-container-id-1 div.sk-label.fitted input.sk-toggleable__control:checked~label.sk-toggleable__label {\n",
       "  background-color: var(--sklearn-color-fitted-level-2);\n",
       "}\n",
       "\n",
       "/* Estimator-specific style */\n",
       "\n",
       "/* Colorize estimator box */\n",
       "#sk-container-id-1 div.sk-estimator input.sk-toggleable__control:checked~label.sk-toggleable__label {\n",
       "  /* unfitted */\n",
       "  background-color: var(--sklearn-color-unfitted-level-2);\n",
       "}\n",
       "\n",
       "#sk-container-id-1 div.sk-estimator.fitted input.sk-toggleable__control:checked~label.sk-toggleable__label {\n",
       "  /* fitted */\n",
       "  background-color: var(--sklearn-color-fitted-level-2);\n",
       "}\n",
       "\n",
       "#sk-container-id-1 div.sk-label label.sk-toggleable__label,\n",
       "#sk-container-id-1 div.sk-label label {\n",
       "  /* The background is the default theme color */\n",
       "  color: var(--sklearn-color-text-on-default-background);\n",
       "}\n",
       "\n",
       "/* On hover, darken the color of the background */\n",
       "#sk-container-id-1 div.sk-label:hover label.sk-toggleable__label {\n",
       "  color: var(--sklearn-color-text);\n",
       "  background-color: var(--sklearn-color-unfitted-level-2);\n",
       "}\n",
       "\n",
       "/* Label box, darken color on hover, fitted */\n",
       "#sk-container-id-1 div.sk-label.fitted:hover label.sk-toggleable__label.fitted {\n",
       "  color: var(--sklearn-color-text);\n",
       "  background-color: var(--sklearn-color-fitted-level-2);\n",
       "}\n",
       "\n",
       "/* Estimator label */\n",
       "\n",
       "#sk-container-id-1 div.sk-label label {\n",
       "  font-family: monospace;\n",
       "  font-weight: bold;\n",
       "  display: inline-block;\n",
       "  line-height: 1.2em;\n",
       "}\n",
       "\n",
       "#sk-container-id-1 div.sk-label-container {\n",
       "  text-align: center;\n",
       "}\n",
       "\n",
       "/* Estimator-specific */\n",
       "#sk-container-id-1 div.sk-estimator {\n",
       "  font-family: monospace;\n",
       "  border: 1px dotted var(--sklearn-color-border-box);\n",
       "  border-radius: 0.25em;\n",
       "  box-sizing: border-box;\n",
       "  margin-bottom: 0.5em;\n",
       "  /* unfitted */\n",
       "  background-color: var(--sklearn-color-unfitted-level-0);\n",
       "}\n",
       "\n",
       "#sk-container-id-1 div.sk-estimator.fitted {\n",
       "  /* fitted */\n",
       "  background-color: var(--sklearn-color-fitted-level-0);\n",
       "}\n",
       "\n",
       "/* on hover */\n",
       "#sk-container-id-1 div.sk-estimator:hover {\n",
       "  /* unfitted */\n",
       "  background-color: var(--sklearn-color-unfitted-level-2);\n",
       "}\n",
       "\n",
       "#sk-container-id-1 div.sk-estimator.fitted:hover {\n",
       "  /* fitted */\n",
       "  background-color: var(--sklearn-color-fitted-level-2);\n",
       "}\n",
       "\n",
       "/* Specification for estimator info (e.g. \"i\" and \"?\") */\n",
       "\n",
       "/* Common style for \"i\" and \"?\" */\n",
       "\n",
       ".sk-estimator-doc-link,\n",
       "a:link.sk-estimator-doc-link,\n",
       "a:visited.sk-estimator-doc-link {\n",
       "  float: right;\n",
       "  font-size: smaller;\n",
       "  line-height: 1em;\n",
       "  font-family: monospace;\n",
       "  background-color: var(--sklearn-color-background);\n",
       "  border-radius: 1em;\n",
       "  height: 1em;\n",
       "  width: 1em;\n",
       "  text-decoration: none !important;\n",
       "  margin-left: 1ex;\n",
       "  /* unfitted */\n",
       "  border: var(--sklearn-color-unfitted-level-1) 1pt solid;\n",
       "  color: var(--sklearn-color-unfitted-level-1);\n",
       "}\n",
       "\n",
       ".sk-estimator-doc-link.fitted,\n",
       "a:link.sk-estimator-doc-link.fitted,\n",
       "a:visited.sk-estimator-doc-link.fitted {\n",
       "  /* fitted */\n",
       "  border: var(--sklearn-color-fitted-level-1) 1pt solid;\n",
       "  color: var(--sklearn-color-fitted-level-1);\n",
       "}\n",
       "\n",
       "/* On hover */\n",
       "div.sk-estimator:hover .sk-estimator-doc-link:hover,\n",
       ".sk-estimator-doc-link:hover,\n",
       "div.sk-label-container:hover .sk-estimator-doc-link:hover,\n",
       ".sk-estimator-doc-link:hover {\n",
       "  /* unfitted */\n",
       "  background-color: var(--sklearn-color-unfitted-level-3);\n",
       "  color: var(--sklearn-color-background);\n",
       "  text-decoration: none;\n",
       "}\n",
       "\n",
       "div.sk-estimator.fitted:hover .sk-estimator-doc-link.fitted:hover,\n",
       ".sk-estimator-doc-link.fitted:hover,\n",
       "div.sk-label-container:hover .sk-estimator-doc-link.fitted:hover,\n",
       ".sk-estimator-doc-link.fitted:hover {\n",
       "  /* fitted */\n",
       "  background-color: var(--sklearn-color-fitted-level-3);\n",
       "  color: var(--sklearn-color-background);\n",
       "  text-decoration: none;\n",
       "}\n",
       "\n",
       "/* Span, style for the box shown on hovering the info icon */\n",
       ".sk-estimator-doc-link span {\n",
       "  display: none;\n",
       "  z-index: 9999;\n",
       "  position: relative;\n",
       "  font-weight: normal;\n",
       "  right: .2ex;\n",
       "  padding: .5ex;\n",
       "  margin: .5ex;\n",
       "  width: min-content;\n",
       "  min-width: 20ex;\n",
       "  max-width: 50ex;\n",
       "  color: var(--sklearn-color-text);\n",
       "  box-shadow: 2pt 2pt 4pt #999;\n",
       "  /* unfitted */\n",
       "  background: var(--sklearn-color-unfitted-level-0);\n",
       "  border: .5pt solid var(--sklearn-color-unfitted-level-3);\n",
       "}\n",
       "\n",
       ".sk-estimator-doc-link.fitted span {\n",
       "  /* fitted */\n",
       "  background: var(--sklearn-color-fitted-level-0);\n",
       "  border: var(--sklearn-color-fitted-level-3);\n",
       "}\n",
       "\n",
       ".sk-estimator-doc-link:hover span {\n",
       "  display: block;\n",
       "}\n",
       "\n",
       "/* \"?\"-specific style due to the `<a>` HTML tag */\n",
       "\n",
       "#sk-container-id-1 a.estimator_doc_link {\n",
       "  float: right;\n",
       "  font-size: 1rem;\n",
       "  line-height: 1em;\n",
       "  font-family: monospace;\n",
       "  background-color: var(--sklearn-color-background);\n",
       "  border-radius: 1rem;\n",
       "  height: 1rem;\n",
       "  width: 1rem;\n",
       "  text-decoration: none;\n",
       "  /* unfitted */\n",
       "  color: var(--sklearn-color-unfitted-level-1);\n",
       "  border: var(--sklearn-color-unfitted-level-1) 1pt solid;\n",
       "}\n",
       "\n",
       "#sk-container-id-1 a.estimator_doc_link.fitted {\n",
       "  /* fitted */\n",
       "  border: var(--sklearn-color-fitted-level-1) 1pt solid;\n",
       "  color: var(--sklearn-color-fitted-level-1);\n",
       "}\n",
       "\n",
       "/* On hover */\n",
       "#sk-container-id-1 a.estimator_doc_link:hover {\n",
       "  /* unfitted */\n",
       "  background-color: var(--sklearn-color-unfitted-level-3);\n",
       "  color: var(--sklearn-color-background);\n",
       "  text-decoration: none;\n",
       "}\n",
       "\n",
       "#sk-container-id-1 a.estimator_doc_link.fitted:hover {\n",
       "  /* fitted */\n",
       "  background-color: var(--sklearn-color-fitted-level-3);\n",
       "}\n",
       "</style><div id=\"sk-container-id-1\" class=\"sk-top-container\"><div class=\"sk-text-repr-fallback\"><pre>RandomForestClassifier(criterion=&#x27;entropy&#x27;, n_estimators=20)</pre><b>In a Jupyter environment, please rerun this cell to show the HTML representation or trust the notebook. <br />On GitHub, the HTML representation is unable to render, please try loading this page with nbviewer.org.</b></div><div class=\"sk-container\" hidden><div class=\"sk-item\"><div class=\"sk-estimator fitted sk-toggleable\"><input class=\"sk-toggleable__control sk-hidden--visually\" id=\"sk-estimator-id-1\" type=\"checkbox\" checked><label for=\"sk-estimator-id-1\" class=\"sk-toggleable__label fitted sk-toggleable__label-arrow fitted\">&nbsp;&nbsp;RandomForestClassifier<a class=\"sk-estimator-doc-link fitted\" rel=\"noreferrer\" target=\"_blank\" href=\"https://scikit-learn.org/1.4/modules/generated/sklearn.ensemble.RandomForestClassifier.html\">?<span>Documentation for RandomForestClassifier</span></a><span class=\"sk-estimator-doc-link fitted\">i<span>Fitted</span></span></label><div class=\"sk-toggleable__content fitted\"><pre>RandomForestClassifier(criterion=&#x27;entropy&#x27;, n_estimators=20)</pre></div> </div></div></div></div>"
      ],
      "text/plain": [
       "RandomForestClassifier(criterion='entropy', n_estimators=20)"
      ]
     },
     "execution_count": 66,
     "metadata": {},
     "output_type": "execute_result"
    }
   ],
   "source": [
    "best_n = 20\n",
    "best_RF = RandomForestClassifier(criterion='entropy', n_estimators = best_n)\n",
    "best_RF.fit(X_train_tfidf, y_train)"
   ]
  },
  {
   "cell_type": "markdown",
   "metadata": {},
   "source": [
    "<b>Confusion matrix:</b>"
   ]
  },
  {
   "cell_type": "code",
   "execution_count": 67,
   "metadata": {},
   "outputs": [
    {
     "name": "stdout",
     "output_type": "stream",
     "text": [
      "Confusion Matrix for the model: Predicted (Columns) x Actual (Rows)\n"
     ]
    },
    {
     "data": {
      "text/html": [
       "<div>\n",
       "<style scoped>\n",
       "    .dataframe tbody tr th:only-of-type {\n",
       "        vertical-align: middle;\n",
       "    }\n",
       "\n",
       "    .dataframe tbody tr th {\n",
       "        vertical-align: top;\n",
       "    }\n",
       "\n",
       "    .dataframe thead th {\n",
       "        text-align: right;\n",
       "    }\n",
       "</style>\n",
       "<table border=\"1\" class=\"dataframe\">\n",
       "  <thead>\n",
       "    <tr style=\"text-align: right;\">\n",
       "      <th></th>\n",
       "      <th>P: sadness</th>\n",
       "      <th>joy</th>\n",
       "      <th>love</th>\n",
       "      <th>anger</th>\n",
       "      <th>fear</th>\n",
       "      <th>surprise</th>\n",
       "    </tr>\n",
       "  </thead>\n",
       "  <tbody>\n",
       "    <tr>\n",
       "      <th>A: sadness</th>\n",
       "      <td>2650</td>\n",
       "      <td>108</td>\n",
       "      <td>102</td>\n",
       "      <td>140</td>\n",
       "      <td>108</td>\n",
       "      <td>22</td>\n",
       "    </tr>\n",
       "    <tr>\n",
       "      <th>joy</th>\n",
       "      <td>87</td>\n",
       "      <td>3020</td>\n",
       "      <td>345</td>\n",
       "      <td>70</td>\n",
       "      <td>59</td>\n",
       "      <td>77</td>\n",
       "    </tr>\n",
       "    <tr>\n",
       "      <th>love</th>\n",
       "      <td>38</td>\n",
       "      <td>209</td>\n",
       "      <td>1478</td>\n",
       "      <td>28</td>\n",
       "      <td>17</td>\n",
       "      <td>8</td>\n",
       "    </tr>\n",
       "    <tr>\n",
       "      <th>anger</th>\n",
       "      <td>113</td>\n",
       "      <td>49</td>\n",
       "      <td>56</td>\n",
       "      <td>2505</td>\n",
       "      <td>105</td>\n",
       "      <td>12</td>\n",
       "    </tr>\n",
       "    <tr>\n",
       "      <th>fear</th>\n",
       "      <td>89</td>\n",
       "      <td>50</td>\n",
       "      <td>38</td>\n",
       "      <td>99</td>\n",
       "      <td>2024</td>\n",
       "      <td>113</td>\n",
       "    </tr>\n",
       "    <tr>\n",
       "      <th>surprise</th>\n",
       "      <td>12</td>\n",
       "      <td>20</td>\n",
       "      <td>19</td>\n",
       "      <td>7</td>\n",
       "      <td>137</td>\n",
       "      <td>578</td>\n",
       "    </tr>\n",
       "  </tbody>\n",
       "</table>\n",
       "</div>"
      ],
      "text/plain": [
       "            P: sadness   joy  love  anger  fear  surprise\n",
       "A: sadness        2650   108   102    140   108        22\n",
       "joy                 87  3020   345     70    59        77\n",
       "love                38   209  1478     28    17         8\n",
       "anger              113    49    56   2505   105        12\n",
       "fear                89    50    38     99  2024       113\n",
       "surprise            12    20    19      7   137       578"
      ]
     },
     "execution_count": 67,
     "metadata": {},
     "output_type": "execute_result"
    }
   ],
   "source": [
    "# Display a confusion matrix\n",
    "print('Confusion Matrix for the model: Predicted (Columns) x Actual (Rows)')\n",
    "\n",
    "# Creating confusion matrix based on validation accuracy\n",
    "class_label_predictions = best_RF.predict(X_val_tfidf)\n",
    "c_m = confusion_matrix(y_val, class_label_predictions, labels=[0,1,2,3,4,5])\n",
    "\n",
    "# Create a Pandas DataFrame out of the confusion matrix for display purposes\n",
    "pd.DataFrame(\n",
    "c_m,\n",
    "columns=['P: sadness', 'joy', 'love', 'anger', 'fear', 'surprise'],\n",
    "index=['A: sadness', 'joy', 'love', 'anger', 'fear', 'surprise'])"
   ]
  },
  {
   "cell_type": "markdown",
   "metadata": {},
   "source": [
    "<b>Accuracy Score (on validation set):</b>"
   ]
  },
  {
   "cell_type": "code",
   "execution_count": 68,
   "metadata": {},
   "outputs": [
    {
     "name": "stdout",
     "output_type": "stream",
     "text": [
      "Accuracy Score: 0.83984375\n"
     ]
    }
   ],
   "source": [
    "pred_RF = best_RF.predict(X_val_tfidf)\n",
    "acc_RF = accuracy_score(y_val, pred_RF)\n",
    "print(\"Accuracy Score: {}\".format(acc_RF))"
   ]
  },
  {
   "cell_type": "markdown",
   "metadata": {},
   "source": [
    "<b>Average Precision Score:</b>"
   ]
  },
  {
   "cell_type": "code",
   "execution_count": 69,
   "metadata": {},
   "outputs": [],
   "source": [
    "y_score_RF = best_RF.predict_proba(X_val_tfidf)\n",
    "# Converts probabilities into binary\n",
    "y_val_binary_RF = label_binarize(y_val, classes=[0, 1, 2, 3, 4, 5])"
   ]
  },
  {
   "cell_type": "code",
   "execution_count": 70,
   "metadata": {},
   "outputs": [
    {
     "name": "stdout",
     "output_type": "stream",
     "text": [
      "Average precision score: 0.884766822540747\n"
     ]
    }
   ],
   "source": [
    "ap_score_RF = average_precision_score(y_val_binary_RF, y_score_RF)\n",
    "print(\"Average precision score: {}\".format(ap_score_RF))"
   ]
  },
  {
   "cell_type": "markdown",
   "metadata": {},
   "source": [
    "This shows that the average precision of the model is about 89%, which is not high but relatively accurate."
   ]
  },
  {
   "cell_type": "markdown",
   "metadata": {},
   "source": [
    "<b>F1_Score:</b>"
   ]
  },
  {
   "cell_type": "code",
   "execution_count": 71,
   "metadata": {},
   "outputs": [
    {
     "name": "stdout",
     "output_type": "stream",
     "text": [
      "F1 Score: [0.8661546  0.84903008 0.77463312 0.88064686 0.83240798 0.730259  ]\n"
     ]
    }
   ],
   "source": [
    "y_pred_RF = best_RF.predict(X_val_tfidf)\n",
    "f1_score_RF = f1_score(y_val, y_pred_RF, average=None)\n",
    "print(\"F1 Score: {}\".format(f1_score_RF))"
   ]
  },
  {
   "cell_type": "markdown",
   "metadata": {},
   "source": [
    "*['sadness', 'joy', 'love', 'anger', 'fear', 'surprise']\n",
    "\n",
    "The f1_score is a harmonic mean of precision and recall. Each element in the array represents the f1_score for each class, and since they are relatively similar, the model performs similarly well across classes."
   ]
  },
  {
   "cell_type": "markdown",
   "metadata": {},
   "source": [
    "#### Neural Network"
   ]
  },
  {
   "cell_type": "code",
   "execution_count": 72,
   "metadata": {},
   "outputs": [
    {
     "name": "stderr",
     "output_type": "stream",
     "text": [
      "2024-08-01 03:01:41.141542: W tensorflow/stream_executor/platform/default/dso_loader.cc:64] Could not load dynamic library 'libcudart.so.11.0'; dlerror: libcudart.so.11.0: cannot open shared object file: No such file or directory\n",
      "2024-08-01 03:01:41.141569: I tensorflow/stream_executor/cuda/cudart_stub.cc:29] Ignore above cudart dlerror if you do not have a GPU set up on your machine.\n"
     ]
    }
   ],
   "source": [
    "import tensorflow.keras as keras\n",
    "import time"
   ]
  },
  {
   "cell_type": "code",
   "execution_count": 73,
   "metadata": {},
   "outputs": [
    {
     "name": "stdout",
     "output_type": "stream",
     "text": [
      "18401\n"
     ]
    }
   ],
   "source": [
    "vocabulary_size = len(tfidf_vectorizer.vocabulary_)\n",
    "print(vocabulary_size)"
   ]
  },
  {
   "cell_type": "markdown",
   "metadata": {},
   "source": [
    "I will create different variations of neural networks with different numbers of layers, dropout layers, and different numbers of units. Later, I will test different numbers of epochs."
   ]
  },
  {
   "cell_type": "code",
   "execution_count": 74,
   "metadata": {},
   "outputs": [
    {
     "name": "stdout",
     "output_type": "stream",
     "text": [
      "Model: \"sequential\"\n",
      "_________________________________________________________________\n",
      "Layer (type)                 Output Shape              Param #   \n",
      "=================================================================\n",
      "dropout (Dropout)            (None, 18401)             0         \n",
      "_________________________________________________________________\n",
      "hl_1 (Dense)                 (None, 16)                294432    \n",
      "_________________________________________________________________\n",
      "dropout_1 (Dropout)          (None, 16)                0         \n",
      "_________________________________________________________________\n",
      "hl_2 (Dense)                 (None, 16)                272       \n",
      "_________________________________________________________________\n",
      "dropout_2 (Dropout)          (None, 16)                0         \n",
      "_________________________________________________________________\n",
      "hl_3 (Dense)                 (None, 8)                 136       \n",
      "_________________________________________________________________\n",
      "dropout_3 (Dropout)          (None, 8)                 0         \n",
      "_________________________________________________________________\n",
      "output (Dense)               (None, 6)                 54        \n",
      "=================================================================\n",
      "Total params: 294,894\n",
      "Trainable params: 294,894\n",
      "Non-trainable params: 0\n",
      "_________________________________________________________________\n"
     ]
    },
    {
     "name": "stderr",
     "output_type": "stream",
     "text": [
      "2024-08-01 03:01:44.707107: W tensorflow/stream_executor/platform/default/dso_loader.cc:64] Could not load dynamic library 'libcuda.so.1'; dlerror: libcuda.so.1: cannot open shared object file: No such file or directory\n",
      "2024-08-01 03:01:44.707132: W tensorflow/stream_executor/cuda/cuda_driver.cc:326] failed call to cuInit: UNKNOWN ERROR (303)\n",
      "2024-08-01 03:01:44.707195: I tensorflow/stream_executor/cuda/cuda_diagnostics.cc:156] kernel driver does not appear to be running on this host (i-06c2572271fe90a1b): /proc/driver/nvidia/version does not exist\n",
      "2024-08-01 03:01:44.707397: I tensorflow/core/platform/cpu_feature_guard.cc:142] This TensorFlow binary is optimized with oneAPI Deep Neural Network Library (oneDNN) to use the following CPU instructions in performance-critical operations:  AVX2 FMA\n",
      "To enable them in other operations, rebuild TensorFlow with the appropriate compiler flags.\n"
     ]
    }
   ],
   "source": [
    "# Create neural network model object\n",
    "nn_model = keras.Sequential()\n",
    "\n",
    "# Construct input layer \n",
    "input_layer = keras.layers.InputLayer(input_shape=vocabulary_size, name='input')\n",
    "nn_model.add(input_layer)\n",
    "nn_model.add(keras.layers.Dropout(.25))\n",
    "\n",
    "# Construct hidden layer 1\n",
    "hidden_layer_1 = keras.layers.Dense(units=16, activation='relu', name='hl_1')\n",
    "nn_model.add(hidden_layer_1)\n",
    "nn_model.add(keras.layers.Dropout(.25))\n",
    "\n",
    "# Construct hidden layer 2\n",
    "hidden_layer_2 = keras.layers.Dense(units=16, activation='relu', name='hl_2')\n",
    "nn_model.add(hidden_layer_2)\n",
    "nn_model.add(keras.layers.Dropout(.25))\n",
    "\n",
    "# Construct hidden layer 3\n",
    "hidden_layer_3 = keras.layers.Dense(units=8, activation='relu', name='hl_3')\n",
    "nn_model.add(hidden_layer_3)\n",
    "nn_model.add(keras.layers.Dropout(.25))\n",
    "\n",
    "# Construct Output layer \n",
    "output_layer = keras.layers.Dense(units=6, activation='softmax', name='output') # 6 classes\n",
    "nn_model.add(output_layer)\n",
    "\n",
    "# Print model summary\n",
    "nn_model.summary()"
   ]
  },
  {
   "cell_type": "code",
   "execution_count": 75,
   "metadata": {},
   "outputs": [
    {
     "name": "stdout",
     "output_type": "stream",
     "text": [
      "Model: \"sequential_1\"\n",
      "_________________________________________________________________\n",
      "Layer (type)                 Output Shape              Param #   \n",
      "=================================================================\n",
      "dropout_4 (Dropout)          (None, 18401)             0         \n",
      "_________________________________________________________________\n",
      "hl_1 (Dense)                 (None, 32)                588864    \n",
      "_________________________________________________________________\n",
      "dropout_5 (Dropout)          (None, 32)                0         \n",
      "_________________________________________________________________\n",
      "hl_2 (Dense)                 (None, 16)                528       \n",
      "_________________________________________________________________\n",
      "dropout_6 (Dropout)          (None, 16)                0         \n",
      "_________________________________________________________________\n",
      "hl_3 (Dense)                 (None, 16)                272       \n",
      "_________________________________________________________________\n",
      "dropout_7 (Dropout)          (None, 16)                0         \n",
      "_________________________________________________________________\n",
      "hl_4 (Dense)                 (None, 8)                 136       \n",
      "_________________________________________________________________\n",
      "dropout_8 (Dropout)          (None, 8)                 0         \n",
      "_________________________________________________________________\n",
      "output (Dense)               (None, 6)                 54        \n",
      "=================================================================\n",
      "Total params: 589,854\n",
      "Trainable params: 589,854\n",
      "Non-trainable params: 0\n",
      "_________________________________________________________________\n"
     ]
    }
   ],
   "source": [
    "# Create neural network model object\n",
    "nn_model_2 = keras.Sequential()\n",
    "\n",
    "# Construct input layer \n",
    "input_layer = keras.layers.InputLayer(input_shape=vocabulary_size, name='input')\n",
    "nn_model_2.add(input_layer)\n",
    "nn_model_2.add(keras.layers.Dropout(.25))\n",
    "\n",
    "# Construct hidden layer 1\n",
    "hidden_layer_1 = keras.layers.Dense(units=32, activation='relu', name='hl_1')\n",
    "nn_model_2.add(hidden_layer_1)\n",
    "nn_model_2.add(keras.layers.Dropout(.25))\n",
    "\n",
    "# Construct hidden layer 2\n",
    "hidden_layer_2 = keras.layers.Dense(units=16, activation='relu', name='hl_2')\n",
    "nn_model_2.add(hidden_layer_2)\n",
    "nn_model_2.add(keras.layers.Dropout(.25))\n",
    "\n",
    "# Construct hidden layer 3\n",
    "hidden_layer_3 = keras.layers.Dense(units=16, activation='relu', name='hl_3')\n",
    "nn_model_2.add(hidden_layer_3)\n",
    "nn_model_2.add(keras.layers.Dropout(.25))\n",
    "\n",
    "# Construct hidden layer 4\n",
    "hidden_layer_4 = keras.layers.Dense(units=8, activation='relu', name='hl_4')\n",
    "nn_model_2.add(hidden_layer_4)\n",
    "nn_model_2.add(keras.layers.Dropout(.25))\n",
    "\n",
    "# Construct Output layer \n",
    "output_layer = keras.layers.Dense(units=6, activation='softmax', name='output') # 6 classes\n",
    "nn_model_2.add(output_layer)\n",
    "\n",
    "# Print model summary\n",
    "nn_model_2.summary()"
   ]
  },
  {
   "cell_type": "code",
   "execution_count": 76,
   "metadata": {},
   "outputs": [
    {
     "name": "stdout",
     "output_type": "stream",
     "text": [
      "Model: \"sequential_2\"\n",
      "_________________________________________________________________\n",
      "Layer (type)                 Output Shape              Param #   \n",
      "=================================================================\n",
      "dropout_9 (Dropout)          (None, 18401)             0         \n",
      "_________________________________________________________________\n",
      "hl_1 (Dense)                 (None, 32)                588864    \n",
      "_________________________________________________________________\n",
      "dropout_10 (Dropout)         (None, 32)                0         \n",
      "_________________________________________________________________\n",
      "hl_2 (Dense)                 (None, 16)                528       \n",
      "_________________________________________________________________\n",
      "dropout_11 (Dropout)         (None, 16)                0         \n",
      "_________________________________________________________________\n",
      "output (Dense)               (None, 6)                 102       \n",
      "=================================================================\n",
      "Total params: 589,494\n",
      "Trainable params: 589,494\n",
      "Non-trainable params: 0\n",
      "_________________________________________________________________\n"
     ]
    }
   ],
   "source": [
    "# Create neural network model object\n",
    "nn_model_3 = keras.Sequential()\n",
    "\n",
    "# Construct input layer \n",
    "input_layer = keras.layers.InputLayer(input_shape=vocabulary_size, name='input')\n",
    "nn_model_3.add(input_layer)\n",
    "nn_model_3.add(keras.layers.Dropout(.25))\n",
    "\n",
    "# Construct hidden layer 1\n",
    "hidden_layer_1 = keras.layers.Dense(units=32, activation='relu', name='hl_1')\n",
    "nn_model_3.add(hidden_layer_1)\n",
    "nn_model_3.add(keras.layers.Dropout(.25))\n",
    "\n",
    "# Construct hidden layer 2\n",
    "hidden_layer_2 = keras.layers.Dense(units=16, activation='relu', name='hl_2')\n",
    "nn_model_3.add(hidden_layer_2)\n",
    "nn_model_3.add(keras.layers.Dropout(.25))\n",
    "\n",
    "# Construct Output layer \n",
    "output_layer = keras.layers.Dense(units=6, activation='softmax', name='output') # 6 classes\n",
    "nn_model_3.add(output_layer)\n",
    "\n",
    "# Print model summary\n",
    "nn_model_3.summary()"
   ]
  },
  {
   "cell_type": "code",
   "execution_count": 77,
   "metadata": {},
   "outputs": [
    {
     "name": "stdout",
     "output_type": "stream",
     "text": [
      "Model: \"sequential_3\"\n",
      "_________________________________________________________________\n",
      "Layer (type)                 Output Shape              Param #   \n",
      "=================================================================\n",
      "dropout_12 (Dropout)         (None, 18401)             0         \n",
      "_________________________________________________________________\n",
      "hl_1 (Dense)                 (None, 64)                1177728   \n",
      "_________________________________________________________________\n",
      "dropout_13 (Dropout)         (None, 64)                0         \n",
      "_________________________________________________________________\n",
      "hl_2 (Dense)                 (None, 32)                2080      \n",
      "_________________________________________________________________\n",
      "dropout_14 (Dropout)         (None, 32)                0         \n",
      "_________________________________________________________________\n",
      "hl_3 (Dense)                 (None, 16)                528       \n",
      "_________________________________________________________________\n",
      "dropout_15 (Dropout)         (None, 16)                0         \n",
      "_________________________________________________________________\n",
      "output (Dense)               (None, 6)                 102       \n",
      "=================================================================\n",
      "Total params: 1,180,438\n",
      "Trainable params: 1,180,438\n",
      "Non-trainable params: 0\n",
      "_________________________________________________________________\n"
     ]
    }
   ],
   "source": [
    "# Create neural network model object\n",
    "nn_model_4 = keras.Sequential()\n",
    "\n",
    "# Construct input layer \n",
    "input_layer = keras.layers.InputLayer(input_shape=vocabulary_size, name='input')\n",
    "nn_model_4.add(input_layer)\n",
    "nn_model_4.add(keras.layers.Dropout(.25))\n",
    "\n",
    "# Construct hidden layer 1\n",
    "hidden_layer_1 = keras.layers.Dense(units=64, activation='relu', name='hl_1')\n",
    "nn_model_4.add(hidden_layer_1)\n",
    "nn_model_4.add(keras.layers.Dropout(.25))\n",
    "\n",
    "# Construct hidden layer 2\n",
    "hidden_layer_2 = keras.layers.Dense(units=32, activation='relu', name='hl_2')\n",
    "nn_model_4.add(hidden_layer_2)\n",
    "nn_model_4.add(keras.layers.Dropout(.25))\n",
    "\n",
    "# Construct hidden layer 3\n",
    "hidden_layer_3 = keras.layers.Dense(units=16, activation='relu', name='hl_3')\n",
    "nn_model_4.add(hidden_layer_3)\n",
    "nn_model_4.add(keras.layers.Dropout(.25))\n",
    "\n",
    "# Construct Output layer \n",
    "output_layer = keras.layers.Dense(units=6, activation='softmax', name='output') # 6 classes\n",
    "nn_model_4.add(output_layer)\n",
    "\n",
    "# Print model summary\n",
    "nn_model_4.summary()"
   ]
  },
  {
   "cell_type": "code",
   "execution_count": 78,
   "metadata": {},
   "outputs": [
    {
     "name": "stdout",
     "output_type": "stream",
     "text": [
      "Model: \"sequential_4\"\n",
      "_________________________________________________________________\n",
      "Layer (type)                 Output Shape              Param #   \n",
      "=================================================================\n",
      "dropout_16 (Dropout)         (None, 18401)             0         \n",
      "_________________________________________________________________\n",
      "hl_1 (Dense)                 (None, 16)                294432    \n",
      "_________________________________________________________________\n",
      "dropout_17 (Dropout)         (None, 16)                0         \n",
      "_________________________________________________________________\n",
      "hl_2 (Dense)                 (None, 8)                 136       \n",
      "_________________________________________________________________\n",
      "dropout_18 (Dropout)         (None, 8)                 0         \n",
      "_________________________________________________________________\n",
      "output (Dense)               (None, 6)                 54        \n",
      "=================================================================\n",
      "Total params: 294,622\n",
      "Trainable params: 294,622\n",
      "Non-trainable params: 0\n",
      "_________________________________________________________________\n"
     ]
    }
   ],
   "source": [
    "# Create neural network model object\n",
    "nn_model_5 = keras.Sequential()\n",
    "\n",
    "# Construct input layer \n",
    "input_layer = keras.layers.InputLayer(input_shape=vocabulary_size, name='input')\n",
    "nn_model_5.add(input_layer)\n",
    "nn_model_5.add(keras.layers.Dropout(.25))\n",
    "\n",
    "# Construct hidden layer 1\n",
    "hidden_layer_1 = keras.layers.Dense(units=16, activation='relu', name='hl_1')\n",
    "nn_model_5.add(hidden_layer_1)\n",
    "nn_model_5.add(keras.layers.Dropout(.25))\n",
    "\n",
    "# Construct hidden layer 2\n",
    "hidden_layer_2 = keras.layers.Dense(units=8, activation='relu', name='hl_2')\n",
    "nn_model_5.add(hidden_layer_2)\n",
    "nn_model_5.add(keras.layers.Dropout(.25))\n",
    "\n",
    "# Construct Output layer \n",
    "output_layer = keras.layers.Dense(units=6, activation='softmax', name='output') # 6 classes\n",
    "nn_model_5.add(output_layer)\n",
    "\n",
    "# Print model summary\n",
    "nn_model_5.summary()"
   ]
  },
  {
   "cell_type": "code",
   "execution_count": 79,
   "metadata": {},
   "outputs": [],
   "source": [
    "class ProgBarLoggerNEpochs(keras.callbacks.Callback):\n",
    "    \n",
    "    def __init__(self, num_epochs: int, every_n: int = 50):\n",
    "        self.num_epochs = num_epochs\n",
    "        self.every_n = every_n\n",
    "    \n",
    "    def on_epoch_end(self, epoch, logs=None):\n",
    "        if (epoch + 1) % self.every_n == 0:\n",
    "            s = 'Epoch [{}/ {}]'.format(epoch + 1, self.num_epochs)\n",
    "            logs_s = ['{}: {:.4f}'.format(k.capitalize(), v)\n",
    "                      for k, v in logs.items()]\n",
    "            s_list = [s] + logs_s\n",
    "            print(', '.join(s_list))"
   ]
  },
  {
   "cell_type": "code",
   "execution_count": 80,
   "metadata": {},
   "outputs": [],
   "source": [
    "def plotLossNN(num_epochs, history):\n",
    "    # Plot training and validation loss\n",
    "    plt.plot(range(1, num_epochs + 1), history.history['loss'], label='Training Loss')\n",
    "    plt.plot(range(1, num_epochs + 1), history.history['val_loss'], label='Validation Loss')\n",
    "    plt.xlabel('Epoch')\n",
    "    plt.ylabel('Loss')\n",
    "    plt.legend()\n",
    "    plt.show()\n",
    "    # Plot training and validation accuracy\n",
    "    plt.plot(range(1, num_epochs + 1), history.history['accuracy'], label='Training Accuracy')\n",
    "    plt.plot(range(1, num_epochs + 1), history.history['val_accuracy'], label='Validation Accuracy')\n",
    "    plt.xlabel('Epoch')\n",
    "    plt.ylabel('Accuracy')\n",
    "    plt.legend()\n",
    "    plt.show()"
   ]
  },
  {
   "cell_type": "code",
   "execution_count": 81,
   "metadata": {
    "scrolled": true
   },
   "outputs": [
    {
     "name": "stderr",
     "output_type": "stream",
     "text": [
      "2024-08-01 03:01:47.099858: W tensorflow/core/framework/cpu_allocator_impl.cc:80] Allocation of 3046322352 exceeds 10% of free system memory.\n",
      "2024-08-01 03:01:50.278258: I tensorflow/compiler/mlir/mlir_graph_optimization_pass.cc:176] None of the MLIR Optimization Passes are enabled (registered 2)\n",
      "2024-08-01 03:01:50.281452: I tensorflow/core/platform/profile_utils/cpu_utils.cc:114] CPU Frequency: 2649990000 Hz\n"
     ]
    },
    {
     "name": "stdout",
     "output_type": "stream",
     "text": [
      "Epoch [5/ 40], Loss: 1.0911, Accuracy: 0.6067, Val_loss: 0.8411, Val_accuracy: 0.6857\n",
      "Epoch [10/ 40], Loss: 0.9713, Accuracy: 0.6564, Val_loss: 0.6030, Val_accuracy: 0.8254\n",
      "Epoch [15/ 40], Loss: 0.9248, Accuracy: 0.6726, Val_loss: 0.5583, Val_accuracy: 0.8376\n",
      "Epoch [20/ 40], Loss: 0.8987, Accuracy: 0.6841, Val_loss: 0.6516, Val_accuracy: 0.8094\n",
      "Epoch [25/ 40], Loss: 0.8789, Accuracy: 0.6894, Val_loss: 0.5212, Val_accuracy: 0.8463\n",
      "Epoch [30/ 40], Loss: 0.8567, Accuracy: 0.7013, Val_loss: 0.5355, Val_accuracy: 0.8303\n",
      "Epoch [35/ 40], Loss: 0.8365, Accuracy: 0.7070, Val_loss: 0.5681, Val_accuracy: 0.8243\n",
      "Epoch [40/ 40], Loss: 0.8306, Accuracy: 0.7103, Val_loss: 0.6606, Val_accuracy: 0.7801\n",
      "Elapsed time: 130.28s\n"
     ]
    },
    {
     "data": {
      "image/png": "[encoded data removed]",
      "text/plain": [
       "<Figure size 640x480 with 1 Axes>"
      ]
     },
     "metadata": {},
     "output_type": "display_data"
    },
    {
     "data": {
      "image/png": "[encoded data removed]",
      "text/plain": [
       "<Figure size 640x480 with 1 Axes>"
      ]
     },
     "metadata": {},
     "output_type": "display_data"
    }
   ],
   "source": [
    "nn_model_list = [nn_model, nn_model_2,nn_model_3,nn_model_4,nn_model_5]\n",
    "\n",
    "# Due to memory errors, I will manually test every model by replacing nn_model\n",
    "# in the following code, and then provide an overview of all the findings.\n",
    "\n",
    "sgd_optimizer = keras.optimizers.SGD(learning_rate=0.1)\n",
    "# I am using Sparse Categorical Crossentropy as the loss function since this is a multiclass classification problem.\n",
    "loss_fn = keras.losses.SparseCategoricalCrossentropy()\n",
    "\n",
    "t0 = time.time() # start time\n",
    "num_epochs = 40 # epochs\n",
    "nn_model_5.compile(optimizer=sgd_optimizer, loss=loss_fn, metrics=['accuracy'])\n",
    "history = nn_model_5.fit(\n",
    "    X_train_tfidf.toarray(),\n",
    "    y_train,\n",
    "    epochs=num_epochs,\n",
    "    verbose=0,\n",
    "    validation_split=0.2,\n",
    "    callbacks=[ProgBarLoggerNEpochs(num_epochs, every_n=5)],\n",
    ")\n",
    "t1 = time.time() # stop time\n",
    "print('Elapsed time: %.2fs' % (t1-t0))\n",
    "plotLossNN(num_epochs, history)"
   ]
  },
  {
   "cell_type": "markdown",
   "metadata": {},
   "source": [
    "| Name              |   Hidden Layers (Units) |  25% Dropout (All Layers)  |\n",
    "| :---------------- | :----------------: | :----------------: |\n",
    "| nn_model            |   3 (16, 16, 8)     | no (added later)   |   \n",
    "| nn_model_2            |   4 (32, 16, 16, 8)     | yes   | \n",
    "| nn_model_3            |   2 (32, 16)     | no (added later)   | \n",
    "| nn_model_4            |   3 (64, 32, 16)     | yes   | \n",
    "| nn_model_5           |  2 (16, 8)     | no (added later)  | "
   ]
  },
  {
   "cell_type": "markdown",
   "metadata": {},
   "source": [
    "<b>20 Epochs:</b>"
   ]
  },
  {
   "cell_type": "markdown",
   "metadata": {},
   "source": [
    "`nn_model` \n",
    "\n",
    "Epoch [5/ 20], Loss: 0.3665, Accuracy: 0.8671, Val_loss: 0.5057, Val_accuracy: 0.8330 <br>\n",
    "Epoch [10/ 20], Loss: 0.2251, Accuracy: 0.9153, Val_loss: 0.5755, Val_accuracy: 0.8079 <br>\n",
    "Epoch [15/ 20], Loss: 0.1758, Accuracy: 0.9342, Val_loss: 0.6207, Val_accuracy: 0.8195 <br>\n",
    "Epoch [20/ 20], Loss: 0.1427, Accuracy: 0.9466, Val_loss: 0.6678, Val_accuracy: 0.8202 <br>\n",
    "Elapsed time: 45.43s \n",
    "\n",
    "`nn_model_2`\n",
    "\n",
    "Epoch [5/ 20], Loss: 1.2585, Accuracy: 0.5321, Val_loss: 1.0578, Val_accuracy: 0.6358 <br>\n",
    "Epoch [10/ 20], Loss: 1.1280, Accuracy: 0.5969, Val_loss: 0.8767, Val_accuracy: 0.7043 <br>\n",
    "Epoch [15/ 20], Loss: 1.0641, Accuracy: 0.6233, Val_loss: 0.8104, Val_accuracy: 0.7104 <br>\n",
    "Epoch [20/ 20], Loss: 1.0211, Accuracy: 0.6403, Val_loss: 0.7309, Val_accuracy: 0.7568 <br>\n",
    "Elapsed time: 78.77s\n",
    "\n",
    "`nn_model_3`\n",
    "\n",
    "Epoch [5/ 20], Loss: 0.2736, Accuracy: 0.8937, Val_loss: 0.4465, Val_accuracy: 0.8323 <br>\n",
    "Epoch [10/ 20], Loss: 0.1570, Accuracy: 0.9380, Val_loss: 0.9377, Val_accuracy: 0.7245 <br>\n",
    "Epoch [15/ 20], Loss: 0.1033, Accuracy: 0.9594, Val_loss: 0.4980, Val_accuracy: 0.8532 <br>\n",
    "Epoch [20/ 20], Loss: 0.1365, Accuracy: 0.9522, Val_loss: 0.5561, Val_accuracy: 0.8458 <br>\n",
    "Elapsed time: 48.05s\n",
    "\n",
    "`nn_model_4`\n",
    "\n",
    "Epoch [5/ 20], Loss: 0.9078, Accuracy: 0.6901, Val_loss: 0.5555, Val_accuracy: 0.8485 <br>\n",
    "Epoch [10/ 20], Loss: 0.7880, Accuracy: 0.7321, Val_loss: 0.5097, Val_accuracy: 0.8430 <br>\n",
    "Epoch [15/ 20], Loss: 0.7453, Accuracy: 0.7442, Val_loss: 0.4895, Val_accuracy: 0.8336 <br>\n",
    "Epoch [20/ 20], Loss: 0.7138, Accuracy: 0.7565, Val_loss: 0.5287, Val_accuracy: 0.8135 <br>\n",
    "Elapsed time: 90.53s\n",
    "\n",
    "`nn_model_5`\n",
    "\n",
    "Epoch [5/ 20], Loss: 0.3138, Accuracy: 0.8833, Val_loss: 0.5244, Val_accuracy: 0.8137 <br>\n",
    "Epoch [10/ 20], Loss: 0.1921, Accuracy: 0.9247, Val_loss: 0.4209, Val_accuracy: 0.8548 <br>\n",
    "Epoch [15/ 20], Loss: 0.1405, Accuracy: 0.9441, Val_loss: 0.5223, Val_accuracy: 0.8426 <br>\n",
    "Epoch [20/ 20], Loss: 0.1159, Accuracy: 0.9548, Val_loss: 0.5766, Val_accuracy: 0.8458 <br>\n",
    "Elapsed time: 44.24s"
   ]
  },
  {
   "cell_type": "markdown",
   "metadata": {},
   "source": [
    "<b>Notes:</b>\n",
    "Since nn_model_2 and nn_model_4 are relatively slow, I'll only test higher numbers of epochs for the other models."
   ]
  },
  {
   "cell_type": "markdown",
   "metadata": {},
   "source": [
    "<b>50 Epochs:</b>"
   ]
  },
  {
   "cell_type": "markdown",
   "metadata": {},
   "source": [
    "`nn_model`\n",
    "\n",
    "Epoch [5/ 50], Loss: 0.3507, Accuracy: 0.8708, Val_loss: 0.5088, Val_accuracy: 0.8116 <br>\n",
    "Epoch [10/ 50], Loss: 0.2120, Accuracy: 0.9192, Val_loss: 0.5191, Val_accuracy: 0.8194 <br>\n",
    "Epoch [15/ 50], Loss: 0.1546, Accuracy: 0.9418, Val_loss: 1.5845, Val_accuracy: 0.5500 <br>\n",
    "Epoch [20/ 50], Loss: 0.1224, Accuracy: 0.9541, Val_loss: 2.2632, Val_accuracy: 0.5461 <br>\n",
    "Epoch [25/ 50], Loss: 0.1327, Accuracy: 0.9505, Val_loss: 1.7564, Val_accuracy: 0.6037 <br>\n",
    "Epoch [30/ 50], Loss: 0.1115, Accuracy: 0.9628, Val_loss: 0.8599, Val_accuracy: 0.7907 <br>\n",
    "Epoch [35/ 50], Loss: 0.0739, Accuracy: 0.9727, Val_loss: 0.8128, Val_accuracy: 0.8296 <br>\n",
    "Epoch [40/ 50], Loss: 0.1039, Accuracy: 0.9609, Val_loss: 0.6791, Val_accuracy: 0.8444 <br>\n",
    "Epoch [45/ 50], Loss: 0.1049, Accuracy: 0.9658, Val_loss: 0.7891, Val_accuracy: 0.8253 <br>\n",
    "Epoch [50/ 50], Loss: 0.0634, Accuracy: 0.9772, Val_loss: 2.1326, Val_accuracy: 0.6443 <br>\n",
    "Elapsed time: 90.35s\n",
    "\n",
    "`nn_model_3`\n",
    "\n",
    "Epoch [5/ 50], Loss: 0.2869, Accuracy: 0.8926, Val_loss: 0.3711, Val_accuracy: 0.8671 <br>\n",
    "Epoch [10/ 50], Loss: 0.1635, Accuracy: 0.9377, Val_loss: 0.4789, Val_accuracy: 0.8405 <br>\n",
    "Epoch [15/ 50], Loss: 0.1092, Accuracy: 0.9586, Val_loss: 0.5984, Val_accuracy: 0.8301 <br>\n",
    "Epoch [20/ 50], Loss: 0.0901, Accuracy: 0.9674, Val_loss: 0.5831, Val_accuracy: 0.8376 <br>\n",
    "Epoch [25/ 50], Loss: 0.0632, Accuracy: 0.9761, Val_loss: 0.5993, Val_accuracy: 0.8442 <br>\n",
    "Epoch [30/ 50], Loss: 0.0530, Accuracy: 0.9799, Val_loss: 0.7402, Val_accuracy: 0.8284 <br>\n",
    "Epoch [35/ 50], Loss: 0.0421, Accuracy: 0.9838, Val_loss: 0.7215, Val_accuracy: 0.8398 <br>\n",
    "Epoch [40/ 50], Loss: 0.0467, Accuracy: 0.9821, Val_loss: 0.7043, Val_accuracy: 0.8390 <br>\n",
    "Epoch [45/ 50], Loss: 0.0411, Accuracy: 0.9839, Val_loss: 0.7747, Val_accuracy: 0.8346 <br>\n",
    "Epoch [50/ 50], Loss: 0.0367, Accuracy: 0.9862, Val_loss: 0.7847, Val_accuracy: 0.8381 <br>\n",
    "Elapsed time: 105.23s\n",
    "\n",
    "`nn_model_5`\n",
    "\n",
    "Epoch [5/ 50], Loss: 0.3756, Accuracy: 0.8702, Val_loss: 0.4917, Val_accuracy: 0.8427 <br>\n",
    "Epoch [10/ 50], Loss: 0.2088, Accuracy: 0.9220, Val_loss: 0.4300, Val_accuracy: 0.8503 <br>\n",
    "Epoch [15/ 50], Loss: 0.1423, Accuracy: 0.9469, Val_loss: 0.7585, Val_accuracy: 0.8091 <br>\n",
    "Epoch [20/ 50], Loss: 0.1043, Accuracy: 0.9625, Val_loss: 0.6474, Val_accuracy: 0.8277 <br>\n",
    "Epoch [25/ 50], Loss: 0.0856, Accuracy: 0.9694, Val_loss: 0.8431, Val_accuracy: 0.8109 <br>\n",
    "Epoch [30/ 50], Loss: 0.1079, Accuracy: 0.9604, Val_loss: 0.6653, Val_accuracy: 0.8312 <br>\n",
    "Epoch [35/ 50], Loss: 0.0964, Accuracy: 0.9664, Val_loss: 0.6568, Val_accuracy: 0.8394 <br>\n",
    "Epoch [40/ 50], Loss: 0.0549, Accuracy: 0.9797, Val_loss: 0.7845, Val_accuracy: 0.8373 <br>\n",
    "Epoch [45/ 50], Loss: 0.0654, Accuracy: 0.9773, Val_loss: 0.7892, Val_accuracy: 0.8321 <br>\n",
    "Epoch [50/ 50], Loss: 0.0451, Accuracy: 0.9831, Val_loss: 2.2883, Val_accuracy: 0.6895 <br>\n",
    "Elapsed time: 90.77s"
   ]
  },
  {
   "cell_type": "markdown",
   "metadata": {},
   "source": [
    "<b>Notes:</b>\n",
    "The model seems to be overfitting, as the accuracy is very high while the validation accuracy is lower. These happen to be the models without dropout, so I'll add some dropout layers to them (note: I edited the original models to do this). I'll also try to decrease the number of epochs since the final values are either plateauing or going down from overfitting."
   ]
  },
  {
   "cell_type": "markdown",
   "metadata": {},
   "source": [
    "<b>40 Epochs:</b>"
   ]
  },
  {
   "cell_type": "markdown",
   "metadata": {},
   "source": [
    "`nn_model (w/ dropout)`\n",
    "\n",
    "Epoch [5/ 40], Loss: 1.1748, Accuracy: 0.5838, Val_loss: 0.7306, Val_accuracy: 0.7865 <br>\n",
    "Epoch [10/ 40], Loss: 1.0298, Accuracy: 0.6430, Val_loss: 0.6723, Val_accuracy: 0.8099 <br>\n",
    "Epoch [15/ 40], Loss: 0.9886, Accuracy: 0.6613, Val_loss: 0.6810, Val_accuracy: 0.7553 <br>\n",
    "Epoch [20/ 40], Loss: 0.9592, Accuracy: 0.6757, Val_loss: 0.5432, Val_accuracy: 0.8413 <br>\n",
    "Epoch [25/ 40], Loss: 0.9436, Accuracy: 0.6783, Val_loss: 0.6466, Val_accuracy: 0.7866 <br>\n",
    "Epoch [30/ 40], Loss: 0.9310, Accuracy: 0.6823, Val_loss: 0.5671, Val_accuracy: 0.8354 <br>\n",
    "Epoch [35/ 40], Loss: 0.9229, Accuracy: 0.6857, Val_loss: 0.7937, Val_accuracy: 0.6906 <br>\n",
    "Epoch [40/ 40], Loss: 0.9028, Accuracy: 0.6924, Val_loss: 0.5516, Val_accuracy: 0.8320 <br>\n",
    "Elapsed time: 138.24s\n",
    "\n",
    "`nn_model_3 (w/ dropout)`\n",
    "\n",
    "Epoch [5/ 40], Loss: 0.8803, Accuracy: 0.6983, Val_loss: 0.6580, Val_accuracy: 0.7876 <br>\n",
    "Epoch [10/ 40], Loss: 0.7788, Accuracy: 0.7335, Val_loss: 0.5005, Val_accuracy: 0.8429 <br>\n",
    "Epoch [15/ 40], Loss: 0.7420, Accuracy: 0.7447, Val_loss: 0.4568, Val_accuracy: 0.8509 <br>\n",
    "Epoch [20/ 40], Loss: 0.7173, Accuracy: 0.7495, Val_loss: 0.4143, Val_accuracy: 0.8510 <br>\n",
    "Epoch [25/ 40], Loss: 0.6842, Accuracy: 0.7622, Val_loss: 0.4880, Val_accuracy: 0.8374 <br>\n",
    "Epoch [30/ 40], Loss: 0.6704, Accuracy: 0.7663, Val_loss: 0.4311, Val_accuracy: 0.8490 <br>\n",
    "Epoch [35/ 40], Loss: 0.6607, Accuracy: 0.7704, Val_loss: 0.4493, Val_accuracy: 0.8445 <br>\n",
    "Epoch [40/ 40], Loss: 0.6501, Accuracy: 0.7746, Val_loss: 0.4638, Val_accuracy: 0.8378 <br>\n",
    "Elapsed time: 149.47s\n",
    "\n",
    "`nn_model_5 (w/ dropout)`\n",
    "\n",
    "Epoch [5/ 40], Loss: 1.1061, Accuracy: 0.6168, Val_loss: 0.8562, Val_accuracy: 0.7500 <br>\n",
    "Epoch [10/ 40], Loss: 0.9641, Accuracy: 0.6687, Val_loss: 0.7997, Val_accuracy: 0.7376 <br>\n",
    "Epoch [15/ 40], Loss: 0.9265, Accuracy: 0.6837, Val_loss: 0.6414, Val_accuracy: 0.8044 <br>\n",
    "Epoch [20/ 40], Loss: 0.8908, Accuracy: 0.6915, Val_loss: 0.6282, Val_accuracy: 0.8103 <br>\n",
    "Epoch [25/ 40], Loss: 0.8719, Accuracy: 0.7015, Val_loss: 0.7424, Val_accuracy: 0.7496 <br>\n",
    "Epoch [30/ 40], Loss: 0.8460, Accuracy: 0.7035, Val_loss: 0.6148, Val_accuracy: 0.8004 <br>\n",
    "Epoch [35/ 40], Loss: 0.8355, Accuracy: 0.7124, Val_loss: 0.5291, Val_accuracy: 0.8469 <br>\n",
    "Epoch [40/ 40], Loss: 0.8226, Accuracy: 0.7147, Val_loss: 0.5719, Val_accuracy: 0.8356 <br>\n",
    "Elapsed time: 134.41s"
   ]
  },
  {
   "cell_type": "markdown",
   "metadata": {},
   "source": [
    "The models are performing very similarly well, so in the interest of minimizing runtime and choosing the simplest model that gets the job done, I chose `nn_model_5` as the best model."
   ]
  },
  {
   "cell_type": "code",
   "execution_count": 82,
   "metadata": {},
   "outputs": [],
   "source": [
    "best_NN = nn_model_5"
   ]
  },
  {
   "cell_type": "code",
   "execution_count": 83,
   "metadata": {},
   "outputs": [
    {
     "data": {
      "text/plain": [
       "array([[7.91514441e-02, 2.25512788e-01, 1.85006224e-02, 5.87850988e-01,\n",
       "        7.91705027e-02, 9.81364213e-03],\n",
       "       [1.10177770e-01, 3.93916965e-01, 2.33595029e-01, 8.71680677e-02,\n",
       "        1.05661996e-01, 6.94801658e-02],\n",
       "       [5.87954260e-02, 4.22491208e-02, 3.81330363e-02, 1.23018660e-01,\n",
       "        7.18103886e-01, 1.96998343e-02],\n",
       "       ...,\n",
       "       [1.06099136e-02, 5.68321943e-02, 8.99303019e-01, 2.74633494e-04,\n",
       "        3.29314061e-02, 4.88074584e-05],\n",
       "       [9.19465274e-02, 3.64723623e-01, 3.28861654e-01, 4.99130674e-02,\n",
       "        1.25374556e-01, 3.91805694e-02],\n",
       "       [5.85334338e-02, 3.10961902e-01, 5.39061248e-01, 1.20162927e-02,\n",
       "        7.20405877e-02, 7.38647021e-03]], dtype=float32)"
      ]
     },
     "execution_count": 83,
     "metadata": {},
     "output_type": "execute_result"
    }
   ],
   "source": [
    "class_label_predictions = best_NN.predict(X_val_tfidf.toarray())\n",
    "class_label_predictions"
   ]
  },
  {
   "cell_type": "markdown",
   "metadata": {},
   "source": [
    "The predictions are 6 probabilities, each corresponding to the probability that the example is in a specific class. The actual class numbers can be acquired by finding the index of the max of each of these sub-arrays."
   ]
  },
  {
   "cell_type": "code",
   "execution_count": 84,
   "metadata": {},
   "outputs": [
    {
     "data": {
      "text/plain": [
       "array([3, 1, 4, ..., 2, 1, 2])"
      ]
     },
     "execution_count": 84,
     "metadata": {},
     "output_type": "execute_result"
    }
   ],
   "source": [
    "predicted_classes = np.argmax(class_label_predictions, axis=1)\n",
    "predicted_classes"
   ]
  },
  {
   "cell_type": "markdown",
   "metadata": {},
   "source": [
    "Here is a quick overview of some examples the model predicted with the tokenized/transformed text:"
   ]
  },
  {
   "cell_type": "code",
   "execution_count": 85,
   "metadata": {},
   "outputs": [
    {
     "name": "stdout",
     "output_type": "stream",
     "text": [
      "Text: ['felt', 'result', 'made', 'yes', 'thought', 'cute', 'fact', 'truli', 'made', 'care', 'love', 'power', 'touch', 'say', 'realli']\n",
      "Actual: 1.0\n",
      "Predicted: 1\n"
     ]
    }
   ],
   "source": [
    "print(\"Text: {}\".format(X_val.reset_index()['text'][5]))\n",
    "print(\"Actual: {}\".format(y_val.reset_index()['label'][5]))\n",
    "print(\"Predicted: {}\".format(predicted_classes[5]))"
   ]
  },
  {
   "cell_type": "code",
   "execution_count": 86,
   "metadata": {},
   "outputs": [
    {
     "name": "stdout",
     "output_type": "stream",
     "text": [
      "Text: ['babi', 'swore', 'didnt', 'came', 'devast', 'belli', 'look', 'birth']\n",
      "Actual: 0.0\n",
      "Predicted: 1\n"
     ]
    }
   ],
   "source": [
    "print(\"Text: {}\".format(X_val.reset_index()['text'][6000]))\n",
    "print(\"Actual: {}\".format(y_val.reset_index()['label'][6000]))\n",
    "print(\"Predicted: {}\".format(predicted_classes[6000]))"
   ]
  },
  {
   "cell_type": "markdown",
   "metadata": {},
   "source": [
    "<b>Confusion matrix:</b>"
   ]
  },
  {
   "cell_type": "code",
   "execution_count": 87,
   "metadata": {},
   "outputs": [
    {
     "name": "stdout",
     "output_type": "stream",
     "text": [
      "Confusion Matrix for the model: Predicted (Columns) x Actual (Rows)\n"
     ]
    },
    {
     "data": {
      "text/html": [
       "<div>\n",
       "<style scoped>\n",
       "    .dataframe tbody tr th:only-of-type {\n",
       "        vertical-align: middle;\n",
       "    }\n",
       "\n",
       "    .dataframe tbody tr th {\n",
       "        vertical-align: top;\n",
       "    }\n",
       "\n",
       "    .dataframe thead th {\n",
       "        text-align: right;\n",
       "    }\n",
       "</style>\n",
       "<table border=\"1\" class=\"dataframe\">\n",
       "  <thead>\n",
       "    <tr style=\"text-align: right;\">\n",
       "      <th></th>\n",
       "      <th>P: sadness</th>\n",
       "      <th>joy</th>\n",
       "      <th>love</th>\n",
       "      <th>anger</th>\n",
       "      <th>fear</th>\n",
       "      <th>surprise</th>\n",
       "    </tr>\n",
       "  </thead>\n",
       "  <tbody>\n",
       "    <tr>\n",
       "      <th>A: sadness</th>\n",
       "      <td>2172</td>\n",
       "      <td>619</td>\n",
       "      <td>81</td>\n",
       "      <td>124</td>\n",
       "      <td>117</td>\n",
       "      <td>17</td>\n",
       "    </tr>\n",
       "    <tr>\n",
       "      <th>joy</th>\n",
       "      <td>16</td>\n",
       "      <td>3225</td>\n",
       "      <td>330</td>\n",
       "      <td>28</td>\n",
       "      <td>36</td>\n",
       "      <td>23</td>\n",
       "    </tr>\n",
       "    <tr>\n",
       "      <th>love</th>\n",
       "      <td>8</td>\n",
       "      <td>322</td>\n",
       "      <td>1420</td>\n",
       "      <td>7</td>\n",
       "      <td>18</td>\n",
       "      <td>3</td>\n",
       "    </tr>\n",
       "    <tr>\n",
       "      <th>anger</th>\n",
       "      <td>72</td>\n",
       "      <td>345</td>\n",
       "      <td>14</td>\n",
       "      <td>2267</td>\n",
       "      <td>141</td>\n",
       "      <td>1</td>\n",
       "    </tr>\n",
       "    <tr>\n",
       "      <th>fear</th>\n",
       "      <td>16</td>\n",
       "      <td>136</td>\n",
       "      <td>98</td>\n",
       "      <td>72</td>\n",
       "      <td>2017</td>\n",
       "      <td>74</td>\n",
       "    </tr>\n",
       "    <tr>\n",
       "      <th>surprise</th>\n",
       "      <td>8</td>\n",
       "      <td>187</td>\n",
       "      <td>9</td>\n",
       "      <td>4</td>\n",
       "      <td>143</td>\n",
       "      <td>422</td>\n",
       "    </tr>\n",
       "  </tbody>\n",
       "</table>\n",
       "</div>"
      ],
      "text/plain": [
       "            P: sadness   joy  love  anger  fear  surprise\n",
       "A: sadness        2172   619    81    124   117        17\n",
       "joy                 16  3225   330     28    36        23\n",
       "love                 8   322  1420      7    18         3\n",
       "anger               72   345    14   2267   141         1\n",
       "fear                16   136    98     72  2017        74\n",
       "surprise             8   187     9      4   143       422"
      ]
     },
     "execution_count": 87,
     "metadata": {},
     "output_type": "execute_result"
    }
   ],
   "source": [
    "# Display a confusion matrix\n",
    "print('Confusion Matrix for the model: Predicted (Columns) x Actual (Rows)')\n",
    "\n",
    "# Creating confusion matrix based on validation accuracy\n",
    "c_m = confusion_matrix(y_val, predicted_classes, labels=[0,1,2,3,4,5])\n",
    "\n",
    "# Create a Pandas DataFrame out of the confusion matrix for display purposes\n",
    "cm_NN = pd.DataFrame(\n",
    "c_m,\n",
    "columns=['P: sadness', 'joy', 'love', 'anger', 'fear', 'surprise'],\n",
    "index=['A: sadness', 'joy', 'love', 'anger', 'fear', 'surprise'])\n",
    "cm_NN"
   ]
  },
  {
   "cell_type": "markdown",
   "metadata": {},
   "source": [
    "<b>Accuracy (on the validation set):</b>"
   ]
  },
  {
   "cell_type": "code",
   "execution_count": 88,
   "metadata": {},
   "outputs": [
    {
     "name": "stdout",
     "output_type": "stream",
     "text": [
      "Accuracy Score: 0.7896792763157895\n"
     ]
    }
   ],
   "source": [
    "pred_NN = np.argmax(best_NN.predict(X_val_tfidf.toarray()), axis=1)\n",
    "acc_NN = accuracy_score(y_val, pred_NN)\n",
    "print(\"Accuracy Score: {}\".format(acc_NN))"
   ]
  },
  {
   "cell_type": "markdown",
   "metadata": {},
   "source": [
    "<b>Average Precision Score: </b>"
   ]
  },
  {
   "cell_type": "code",
   "execution_count": 89,
   "metadata": {},
   "outputs": [],
   "source": [
    "y_score_NN = best_NN.predict(X_val_tfidf) # already outputs probabilities\n",
    "# Converts probabilities into binary\n",
    "y_val_binary_NN = label_binarize(y_val, classes=[0, 1, 2, 3, 4, 5])"
   ]
  },
  {
   "cell_type": "code",
   "execution_count": 90,
   "metadata": {},
   "outputs": [
    {
     "name": "stdout",
     "output_type": "stream",
     "text": [
      "Average precision score: 0.8763754774205884\n"
     ]
    }
   ],
   "source": [
    "ap_score_NN = average_precision_score(y_val_binary_NN, y_score_NN)\n",
    "print(\"Average precision score: {}\".format(ap_score_NN))"
   ]
  },
  {
   "cell_type": "markdown",
   "metadata": {},
   "source": [
    "<b>F1 Score:</b>"
   ]
  },
  {
   "cell_type": "code",
   "execution_count": 91,
   "metadata": {},
   "outputs": [
    {
     "name": "stdout",
     "output_type": "stream",
     "text": [
      "F1 Score: [0.80118038 0.75953839 0.7613941  0.84874579 0.82579324 0.64280274]\n"
     ]
    }
   ],
   "source": [
    "y_pred_NN = np.argmax(best_NN.predict(X_val_tfidf.toarray()), axis=1)\n",
    "f1_score_NN = f1_score(y_val, y_pred_NN, average=None)\n",
    "print(\"F1 Score: {}\".format(f1_score_NN))"
   ]
  },
  {
   "cell_type": "markdown",
   "metadata": {},
   "source": [
    "### Comparing Different Models"
   ]
  },
  {
   "cell_type": "code",
   "execution_count": 92,
   "metadata": {},
   "outputs": [
    {
     "data": {
      "text/plain": [
       "<matplotlib.legend.Legend at 0x74cf33f486d0>"
      ]
     },
     "execution_count": 92,
     "metadata": {},
     "output_type": "execute_result"
    },
    {
     "data": {
      "image/png": "[encoded data removed]",
      "text/plain": [
       "<Figure size 640x480 with 1 Axes>"
      ]
     },
     "metadata": {},
     "output_type": "display_data"
    }
   ],
   "source": [
    "acc_scores = pd.DataFrame({'Model':['DT', 'RF', 'NN'], 'Accuracy':[acc_DT, acc_RF, acc_NN]})\n",
    "# AP_scores.plot.bar(x='Model', y='AP_Score', rot=0)\n",
    "plt.bar(x=acc_scores['Model'], height=acc_scores['Accuracy'])\n",
    "plt.ylim([0,1])\n",
    "plt.title(\"Model Comparison Accuracy\")\n",
    "plt.legend(['Accuracy'], loc='upper left', ncol=2)"
   ]
  },
  {
   "cell_type": "code",
   "execution_count": 93,
   "metadata": {},
   "outputs": [
    {
     "data": {
      "text/plain": [
       "<matplotlib.legend.Legend at 0x74cf33ec6a90>"
      ]
     },
     "execution_count": 93,
     "metadata": {},
     "output_type": "execute_result"
    },
    {
     "data": {
      "image/png": "[encoded data removed]",
      "text/plain": [
       "<Figure size 640x480 with 1 Axes>"
      ]
     },
     "metadata": {},
     "output_type": "display_data"
    }
   ],
   "source": [
    "AP_scores = pd.DataFrame({'Model':['DT', 'RF', 'NN'], 'AP_Score':[ap_score_DT, ap_score_RF, ap_score_NN]})\n",
    "# AP_scores.plot.bar(x='Model', y='AP_Score', rot=0)\n",
    "plt.bar(x=AP_scores['Model'], height=AP_scores['AP_Score'])\n",
    "plt.ylim([0,1])\n",
    "plt.title(\"Model Comparison Average Precision\")\n",
    "plt.legend(['AP_Score'], loc='upper left', ncol=2)"
   ]
  },
  {
   "cell_type": "code",
   "execution_count": 94,
   "metadata": {},
   "outputs": [
    {
     "data": {
      "image/png": "[encoded data removed]",
      "text/plain": [
       "<Figure size 640x480 with 3 Axes>"
      ]
     },
     "metadata": {},
     "output_type": "display_data"
    }
   ],
   "source": [
    "DT_F1 = f1_score_DT\n",
    "RF_F1 = f1_score_RF\n",
    "NN_F1 = f1_score_NN\n",
    "index = ['sadness', 'joy', 'love', 'anger', 'fear', 'surprise']\n",
    "f1_plot = pd.DataFrame({'DT_F1': DT_F1,\n",
    "                   'RF_F1': RF_F1,\n",
    "                   'NN_F1': NN_F1}, index=index)\n",
    "ax = f1_plot.plot.bar(rot=0, subplots=True)"
   ]
  },
  {
   "cell_type": "markdown",
   "metadata": {},
   "source": [
    "The f1 scores show that the model performs similarly well across classes, with some better performance seen in the better represented classes. Further study can be done with the df_equal dataset I created earlier to mitigate this, but the differences aren't so drastic that this would be necessary. Other misclassifications may be due to similarity of content, such as misclassifications between \"joy\" and \"love\", and \"fear\" and \"surprise\".\n",
    "\n",
    "<b>Conclusion:</b> The models perform similarly well. The neural network has the best precision, but it's also somewhat random every time it runs (may not be the best precision when re-run). Random forest has the best accuracy, but not by enough to justify the extra runtime that comes with it. Upon further hyperparameter tuning, or testing other models such as GBDT, I may find a better model. However, for now, I will say that the best model is the most simple model, the decision tree, unless better accuracy can be achieved later with other models through further testing.\n",
    "\n",
    "I will serialize the best decision tree model so that I can further test it on my Instagram comments in a personal extension of this project! I thought that the Tweets had similar content/vocabulary to the comments on my feed, and could possibly perform well.\n",
    "\n",
    "All that's left is testing the best decision tree on the test set, which has been untouched."
   ]
  },
  {
   "cell_type": "markdown",
   "metadata": {},
   "source": [
    "### Testing the Final Model"
   ]
  },
  {
   "cell_type": "code",
   "execution_count": 95,
   "metadata": {},
   "outputs": [
    {
     "data": {
      "text/html": [
       "<style>#sk-container-id-2 {\n",
       "  /* Definition of color scheme common for light and dark mode */\n",
       "  --sklearn-color-text: black;\n",
       "  --sklearn-color-line: gray;\n",
       "  /* Definition of color scheme for unfitted estimators */\n",
       "  --sklearn-color-unfitted-level-0: #fff5e6;\n",
       "  --sklearn-color-unfitted-level-1: #f6e4d2;\n",
       "  --sklearn-color-unfitted-level-2: #ffe0b3;\n",
       "  --sklearn-color-unfitted-level-3: chocolate;\n",
       "  /* Definition of color scheme for fitted estimators */\n",
       "  --sklearn-color-fitted-level-0: #f0f8ff;\n",
       "  --sklearn-color-fitted-level-1: #d4ebff;\n",
       "  --sklearn-color-fitted-level-2: #b3dbfd;\n",
       "  --sklearn-color-fitted-level-3: cornflowerblue;\n",
       "\n",
       "  /* Specific color for light theme */\n",
       "  --sklearn-color-text-on-default-background: var(--sg-text-color, var(--theme-code-foreground, var(--jp-content-font-color1, black)));\n",
       "  --sklearn-color-background: var(--sg-background-color, var(--theme-background, var(--jp-layout-color0, white)));\n",
       "  --sklearn-color-border-box: var(--sg-text-color, var(--theme-code-foreground, var(--jp-content-font-color1, black)));\n",
       "  --sklearn-color-icon: #696969;\n",
       "\n",
       "  @media (prefers-color-scheme: dark) {\n",
       "    /* Redefinition of color scheme for dark theme */\n",
       "    --sklearn-color-text-on-default-background: var(--sg-text-color, var(--theme-code-foreground, var(--jp-content-font-color1, white)));\n",
       "    --sklearn-color-background: var(--sg-background-color, var(--theme-background, var(--jp-layout-color0, #111)));\n",
       "    --sklearn-color-border-box: var(--sg-text-color, var(--theme-code-foreground, var(--jp-content-font-color1, white)));\n",
       "    --sklearn-color-icon: #878787;\n",
       "  }\n",
       "}\n",
       "\n",
       "#sk-container-id-2 {\n",
       "  color: var(--sklearn-color-text);\n",
       "}\n",
       "\n",
       "#sk-container-id-2 pre {\n",
       "  padding: 0;\n",
       "}\n",
       "\n",
       "#sk-container-id-2 input.sk-hidden--visually {\n",
       "  border: 0;\n",
       "  clip: rect(1px 1px 1px 1px);\n",
       "  clip: rect(1px, 1px, 1px, 1px);\n",
       "  height: 1px;\n",
       "  margin: -1px;\n",
       "  overflow: hidden;\n",
       "  padding: 0;\n",
       "  position: absolute;\n",
       "  width: 1px;\n",
       "}\n",
       "\n",
       "#sk-container-id-2 div.sk-dashed-wrapped {\n",
       "  border: 1px dashed var(--sklearn-color-line);\n",
       "  margin: 0 0.4em 0.5em 0.4em;\n",
       "  box-sizing: border-box;\n",
       "  padding-bottom: 0.4em;\n",
       "  background-color: var(--sklearn-color-background);\n",
       "}\n",
       "\n",
       "#sk-container-id-2 div.sk-container {\n",
       "  /* jupyter's `normalize.less` sets `[hidden] { display: none; }`\n",
       "     but bootstrap.min.css set `[hidden] { display: none !important; }`\n",
       "     so we also need the `!important` here to be able to override the\n",
       "     default hidden behavior on the sphinx rendered scikit-learn.org.\n",
       "     See: https://github.com/scikit-learn/scikit-learn/issues/21755 */\n",
       "  display: inline-block !important;\n",
       "  position: relative;\n",
       "}\n",
       "\n",
       "#sk-container-id-2 div.sk-text-repr-fallback {\n",
       "  display: none;\n",
       "}\n",
       "\n",
       "div.sk-parallel-item,\n",
       "div.sk-serial,\n",
       "div.sk-item {\n",
       "  /* draw centered vertical line to link estimators */\n",
       "  background-image: linear-gradient(var(--sklearn-color-text-on-default-background), var(--sklearn-color-text-on-default-background));\n",
       "  background-size: 2px 100%;\n",
       "  background-repeat: no-repeat;\n",
       "  background-position: center center;\n",
       "}\n",
       "\n",
       "/* Parallel-specific style estimator block */\n",
       "\n",
       "#sk-container-id-2 div.sk-parallel-item::after {\n",
       "  content: \"\";\n",
       "  width: 100%;\n",
       "  border-bottom: 2px solid var(--sklearn-color-text-on-default-background);\n",
       "  flex-grow: 1;\n",
       "}\n",
       "\n",
       "#sk-container-id-2 div.sk-parallel {\n",
       "  display: flex;\n",
       "  align-items: stretch;\n",
       "  justify-content: center;\n",
       "  background-color: var(--sklearn-color-background);\n",
       "  position: relative;\n",
       "}\n",
       "\n",
       "#sk-container-id-2 div.sk-parallel-item {\n",
       "  display: flex;\n",
       "  flex-direction: column;\n",
       "}\n",
       "\n",
       "#sk-container-id-2 div.sk-parallel-item:first-child::after {\n",
       "  align-self: flex-end;\n",
       "  width: 50%;\n",
       "}\n",
       "\n",
       "#sk-container-id-2 div.sk-parallel-item:last-child::after {\n",
       "  align-self: flex-start;\n",
       "  width: 50%;\n",
       "}\n",
       "\n",
       "#sk-container-id-2 div.sk-parallel-item:only-child::after {\n",
       "  width: 0;\n",
       "}\n",
       "\n",
       "/* Serial-specific style estimator block */\n",
       "\n",
       "#sk-container-id-2 div.sk-serial {\n",
       "  display: flex;\n",
       "  flex-direction: column;\n",
       "  align-items: center;\n",
       "  background-color: var(--sklearn-color-background);\n",
       "  padding-right: 1em;\n",
       "  padding-left: 1em;\n",
       "}\n",
       "\n",
       "\n",
       "/* Toggleable style: style used for estimator/Pipeline/ColumnTransformer box that is\n",
       "clickable and can be expanded/collapsed.\n",
       "- Pipeline and ColumnTransformer use this feature and define the default style\n",
       "- Estimators will overwrite some part of the style using the `sk-estimator` class\n",
       "*/\n",
       "\n",
       "/* Pipeline and ColumnTransformer style (default) */\n",
       "\n",
       "#sk-container-id-2 div.sk-toggleable {\n",
       "  /* Default theme specific background. It is overwritten whether we have a\n",
       "  specific estimator or a Pipeline/ColumnTransformer */\n",
       "  background-color: var(--sklearn-color-background);\n",
       "}\n",
       "\n",
       "/* Toggleable label */\n",
       "#sk-container-id-2 label.sk-toggleable__label {\n",
       "  cursor: pointer;\n",
       "  display: block;\n",
       "  width: 100%;\n",
       "  margin-bottom: 0;\n",
       "  padding: 0.5em;\n",
       "  box-sizing: border-box;\n",
       "  text-align: center;\n",
       "}\n",
       "\n",
       "#sk-container-id-2 label.sk-toggleable__label-arrow:before {\n",
       "  /* Arrow on the left of the label */\n",
       "  content: \"▸\";\n",
       "  float: left;\n",
       "  margin-right: 0.25em;\n",
       "  color: var(--sklearn-color-icon);\n",
       "}\n",
       "\n",
       "#sk-container-id-2 label.sk-toggleable__label-arrow:hover:before {\n",
       "  color: var(--sklearn-color-text);\n",
       "}\n",
       "\n",
       "/* Toggleable content - dropdown */\n",
       "\n",
       "#sk-container-id-2 div.sk-toggleable__content {\n",
       "  max-height: 0;\n",
       "  max-width: 0;\n",
       "  overflow: hidden;\n",
       "  text-align: left;\n",
       "  /* unfitted */\n",
       "  background-color: var(--sklearn-color-unfitted-level-0);\n",
       "}\n",
       "\n",
       "#sk-container-id-2 div.sk-toggleable__content.fitted {\n",
       "  /* fitted */\n",
       "  background-color: var(--sklearn-color-fitted-level-0);\n",
       "}\n",
       "\n",
       "#sk-container-id-2 div.sk-toggleable__content pre {\n",
       "  margin: 0.2em;\n",
       "  border-radius: 0.25em;\n",
       "  color: var(--sklearn-color-text);\n",
       "  /* unfitted */\n",
       "  background-color: var(--sklearn-color-unfitted-level-0);\n",
       "}\n",
       "\n",
       "#sk-container-id-2 div.sk-toggleable__content.fitted pre {\n",
       "  /* unfitted */\n",
       "  background-color: var(--sklearn-color-fitted-level-0);\n",
       "}\n",
       "\n",
       "#sk-container-id-2 input.sk-toggleable__control:checked~div.sk-toggleable__content {\n",
       "  /* Expand drop-down */\n",
       "  max-height: 200px;\n",
       "  max-width: 100%;\n",
       "  overflow: auto;\n",
       "}\n",
       "\n",
       "#sk-container-id-2 input.sk-toggleable__control:checked~label.sk-toggleable__label-arrow:before {\n",
       "  content: \"▾\";\n",
       "}\n",
       "\n",
       "/* Pipeline/ColumnTransformer-specific style */\n",
       "\n",
       "#sk-container-id-2 div.sk-label input.sk-toggleable__control:checked~label.sk-toggleable__label {\n",
       "  color: var(--sklearn-color-text);\n",
       "  background-color: var(--sklearn-color-unfitted-level-2);\n",
       "}\n",
       "\n",
       "#sk-container-id-2 div.sk-label.fitted input.sk-toggleable__control:checked~label.sk-toggleable__label {\n",
       "  background-color: var(--sklearn-color-fitted-level-2);\n",
       "}\n",
       "\n",
       "/* Estimator-specific style */\n",
       "\n",
       "/* Colorize estimator box */\n",
       "#sk-container-id-2 div.sk-estimator input.sk-toggleable__control:checked~label.sk-toggleable__label {\n",
       "  /* unfitted */\n",
       "  background-color: var(--sklearn-color-unfitted-level-2);\n",
       "}\n",
       "\n",
       "#sk-container-id-2 div.sk-estimator.fitted input.sk-toggleable__control:checked~label.sk-toggleable__label {\n",
       "  /* fitted */\n",
       "  background-color: var(--sklearn-color-fitted-level-2);\n",
       "}\n",
       "\n",
       "#sk-container-id-2 div.sk-label label.sk-toggleable__label,\n",
       "#sk-container-id-2 div.sk-label label {\n",
       "  /* The background is the default theme color */\n",
       "  color: var(--sklearn-color-text-on-default-background);\n",
       "}\n",
       "\n",
       "/* On hover, darken the color of the background */\n",
       "#sk-container-id-2 div.sk-label:hover label.sk-toggleable__label {\n",
       "  color: var(--sklearn-color-text);\n",
       "  background-color: var(--sklearn-color-unfitted-level-2);\n",
       "}\n",
       "\n",
       "/* Label box, darken color on hover, fitted */\n",
       "#sk-container-id-2 div.sk-label.fitted:hover label.sk-toggleable__label.fitted {\n",
       "  color: var(--sklearn-color-text);\n",
       "  background-color: var(--sklearn-color-fitted-level-2);\n",
       "}\n",
       "\n",
       "/* Estimator label */\n",
       "\n",
       "#sk-container-id-2 div.sk-label label {\n",
       "  font-family: monospace;\n",
       "  font-weight: bold;\n",
       "  display: inline-block;\n",
       "  line-height: 1.2em;\n",
       "}\n",
       "\n",
       "#sk-container-id-2 div.sk-label-container {\n",
       "  text-align: center;\n",
       "}\n",
       "\n",
       "/* Estimator-specific */\n",
       "#sk-container-id-2 div.sk-estimator {\n",
       "  font-family: monospace;\n",
       "  border: 1px dotted var(--sklearn-color-border-box);\n",
       "  border-radius: 0.25em;\n",
       "  box-sizing: border-box;\n",
       "  margin-bottom: 0.5em;\n",
       "  /* unfitted */\n",
       "  background-color: var(--sklearn-color-unfitted-level-0);\n",
       "}\n",
       "\n",
       "#sk-container-id-2 div.sk-estimator.fitted {\n",
       "  /* fitted */\n",
       "  background-color: var(--sklearn-color-fitted-level-0);\n",
       "}\n",
       "\n",
       "/* on hover */\n",
       "#sk-container-id-2 div.sk-estimator:hover {\n",
       "  /* unfitted */\n",
       "  background-color: var(--sklearn-color-unfitted-level-2);\n",
       "}\n",
       "\n",
       "#sk-container-id-2 div.sk-estimator.fitted:hover {\n",
       "  /* fitted */\n",
       "  background-color: var(--sklearn-color-fitted-level-2);\n",
       "}\n",
       "\n",
       "/* Specification for estimator info (e.g. \"i\" and \"?\") */\n",
       "\n",
       "/* Common style for \"i\" and \"?\" */\n",
       "\n",
       ".sk-estimator-doc-link,\n",
       "a:link.sk-estimator-doc-link,\n",
       "a:visited.sk-estimator-doc-link {\n",
       "  float: right;\n",
       "  font-size: smaller;\n",
       "  line-height: 1em;\n",
       "  font-family: monospace;\n",
       "  background-color: var(--sklearn-color-background);\n",
       "  border-radius: 1em;\n",
       "  height: 1em;\n",
       "  width: 1em;\n",
       "  text-decoration: none !important;\n",
       "  margin-left: 1ex;\n",
       "  /* unfitted */\n",
       "  border: var(--sklearn-color-unfitted-level-1) 1pt solid;\n",
       "  color: var(--sklearn-color-unfitted-level-1);\n",
       "}\n",
       "\n",
       ".sk-estimator-doc-link.fitted,\n",
       "a:link.sk-estimator-doc-link.fitted,\n",
       "a:visited.sk-estimator-doc-link.fitted {\n",
       "  /* fitted */\n",
       "  border: var(--sklearn-color-fitted-level-1) 1pt solid;\n",
       "  color: var(--sklearn-color-fitted-level-1);\n",
       "}\n",
       "\n",
       "/* On hover */\n",
       "div.sk-estimator:hover .sk-estimator-doc-link:hover,\n",
       ".sk-estimator-doc-link:hover,\n",
       "div.sk-label-container:hover .sk-estimator-doc-link:hover,\n",
       ".sk-estimator-doc-link:hover {\n",
       "  /* unfitted */\n",
       "  background-color: var(--sklearn-color-unfitted-level-3);\n",
       "  color: var(--sklearn-color-background);\n",
       "  text-decoration: none;\n",
       "}\n",
       "\n",
       "div.sk-estimator.fitted:hover .sk-estimator-doc-link.fitted:hover,\n",
       ".sk-estimator-doc-link.fitted:hover,\n",
       "div.sk-label-container:hover .sk-estimator-doc-link.fitted:hover,\n",
       ".sk-estimator-doc-link.fitted:hover {\n",
       "  /* fitted */\n",
       "  background-color: var(--sklearn-color-fitted-level-3);\n",
       "  color: var(--sklearn-color-background);\n",
       "  text-decoration: none;\n",
       "}\n",
       "\n",
       "/* Span, style for the box shown on hovering the info icon */\n",
       ".sk-estimator-doc-link span {\n",
       "  display: none;\n",
       "  z-index: 9999;\n",
       "  position: relative;\n",
       "  font-weight: normal;\n",
       "  right: .2ex;\n",
       "  padding: .5ex;\n",
       "  margin: .5ex;\n",
       "  width: min-content;\n",
       "  min-width: 20ex;\n",
       "  max-width: 50ex;\n",
       "  color: var(--sklearn-color-text);\n",
       "  box-shadow: 2pt 2pt 4pt #999;\n",
       "  /* unfitted */\n",
       "  background: var(--sklearn-color-unfitted-level-0);\n",
       "  border: .5pt solid var(--sklearn-color-unfitted-level-3);\n",
       "}\n",
       "\n",
       ".sk-estimator-doc-link.fitted span {\n",
       "  /* fitted */\n",
       "  background: var(--sklearn-color-fitted-level-0);\n",
       "  border: var(--sklearn-color-fitted-level-3);\n",
       "}\n",
       "\n",
       ".sk-estimator-doc-link:hover span {\n",
       "  display: block;\n",
       "}\n",
       "\n",
       "/* \"?\"-specific style due to the `<a>` HTML tag */\n",
       "\n",
       "#sk-container-id-2 a.estimator_doc_link {\n",
       "  float: right;\n",
       "  font-size: 1rem;\n",
       "  line-height: 1em;\n",
       "  font-family: monospace;\n",
       "  background-color: var(--sklearn-color-background);\n",
       "  border-radius: 1rem;\n",
       "  height: 1rem;\n",
       "  width: 1rem;\n",
       "  text-decoration: none;\n",
       "  /* unfitted */\n",
       "  color: var(--sklearn-color-unfitted-level-1);\n",
       "  border: var(--sklearn-color-unfitted-level-1) 1pt solid;\n",
       "}\n",
       "\n",
       "#sk-container-id-2 a.estimator_doc_link.fitted {\n",
       "  /* fitted */\n",
       "  border: var(--sklearn-color-fitted-level-1) 1pt solid;\n",
       "  color: var(--sklearn-color-fitted-level-1);\n",
       "}\n",
       "\n",
       "/* On hover */\n",
       "#sk-container-id-2 a.estimator_doc_link:hover {\n",
       "  /* unfitted */\n",
       "  background-color: var(--sklearn-color-unfitted-level-3);\n",
       "  color: var(--sklearn-color-background);\n",
       "  text-decoration: none;\n",
       "}\n",
       "\n",
       "#sk-container-id-2 a.estimator_doc_link.fitted:hover {\n",
       "  /* fitted */\n",
       "  background-color: var(--sklearn-color-fitted-level-3);\n",
       "}\n",
       "</style><div id=\"sk-container-id-2\" class=\"sk-top-container\"><div class=\"sk-text-repr-fallback\"><pre>DecisionTreeClassifier(criterion=&#x27;entropy&#x27;, max_depth=2048, min_samples_leaf=25)</pre><b>In a Jupyter environment, please rerun this cell to show the HTML representation or trust the notebook. <br />On GitHub, the HTML representation is unable to render, please try loading this page with nbviewer.org.</b></div><div class=\"sk-container\" hidden><div class=\"sk-item\"><div class=\"sk-estimator fitted sk-toggleable\"><input class=\"sk-toggleable__control sk-hidden--visually\" id=\"sk-estimator-id-2\" type=\"checkbox\" checked><label for=\"sk-estimator-id-2\" class=\"sk-toggleable__label fitted sk-toggleable__label-arrow fitted\">&nbsp;&nbsp;DecisionTreeClassifier<a class=\"sk-estimator-doc-link fitted\" rel=\"noreferrer\" target=\"_blank\" href=\"https://scikit-learn.org/1.4/modules/generated/sklearn.tree.DecisionTreeClassifier.html\">?<span>Documentation for DecisionTreeClassifier</span></a><span class=\"sk-estimator-doc-link fitted\">i<span>Fitted</span></span></label><div class=\"sk-toggleable__content fitted\"><pre>DecisionTreeClassifier(criterion=&#x27;entropy&#x27;, max_depth=2048, min_samples_leaf=25)</pre></div> </div></div></div></div>"
      ],
      "text/plain": [
       "DecisionTreeClassifier(criterion='entropy', max_depth=2048, min_samples_leaf=25)"
      ]
     },
     "execution_count": 95,
     "metadata": {},
     "output_type": "execute_result"
    }
   ],
   "source": [
    "best_DT = DecisionTreeClassifier(min_samples_leaf = best_min_leaf, max_depth = best_max_depth, criterion = 'entropy')\n",
    "best_DT.fit(X_train_tfidf, y_train)"
   ]
  },
  {
   "cell_type": "code",
   "execution_count": 101,
   "metadata": {},
   "outputs": [
    {
     "name": "stdout",
     "output_type": "stream",
     "text": [
      "Confusion Matrix for the model: Predicted (Columns) x Actual (Rows)\n"
     ]
    },
    {
     "data": {
      "text/html": [
       "<div>\n",
       "<style scoped>\n",
       "    .dataframe tbody tr th:only-of-type {\n",
       "        vertical-align: middle;\n",
       "    }\n",
       "\n",
       "    .dataframe tbody tr th {\n",
       "        vertical-align: top;\n",
       "    }\n",
       "\n",
       "    .dataframe thead th {\n",
       "        text-align: right;\n",
       "    }\n",
       "</style>\n",
       "<table border=\"1\" class=\"dataframe\">\n",
       "  <thead>\n",
       "    <tr style=\"text-align: right;\">\n",
       "      <th></th>\n",
       "      <th>P: sadness</th>\n",
       "      <th>joy</th>\n",
       "      <th>love</th>\n",
       "      <th>anger</th>\n",
       "      <th>fear</th>\n",
       "      <th>surprise</th>\n",
       "    </tr>\n",
       "  </thead>\n",
       "  <tbody>\n",
       "    <tr>\n",
       "      <th>A: sadness</th>\n",
       "      <td>1263</td>\n",
       "      <td>65</td>\n",
       "      <td>60</td>\n",
       "      <td>117</td>\n",
       "      <td>69</td>\n",
       "      <td>17</td>\n",
       "    </tr>\n",
       "    <tr>\n",
       "      <th>joy</th>\n",
       "      <td>122</td>\n",
       "      <td>1410</td>\n",
       "      <td>198</td>\n",
       "      <td>44</td>\n",
       "      <td>37</td>\n",
       "      <td>42</td>\n",
       "    </tr>\n",
       "    <tr>\n",
       "      <th>love</th>\n",
       "      <td>15</td>\n",
       "      <td>125</td>\n",
       "      <td>681</td>\n",
       "      <td>17</td>\n",
       "      <td>3</td>\n",
       "      <td>11</td>\n",
       "    </tr>\n",
       "    <tr>\n",
       "      <th>anger</th>\n",
       "      <td>32</td>\n",
       "      <td>66</td>\n",
       "      <td>59</td>\n",
       "      <td>1240</td>\n",
       "      <td>77</td>\n",
       "      <td>15</td>\n",
       "    </tr>\n",
       "    <tr>\n",
       "      <th>fear</th>\n",
       "      <td>16</td>\n",
       "      <td>25</td>\n",
       "      <td>29</td>\n",
       "      <td>22</td>\n",
       "      <td>1061</td>\n",
       "      <td>55</td>\n",
       "    </tr>\n",
       "    <tr>\n",
       "      <th>surprise</th>\n",
       "      <td>0</td>\n",
       "      <td>11</td>\n",
       "      <td>7</td>\n",
       "      <td>0</td>\n",
       "      <td>54</td>\n",
       "      <td>305</td>\n",
       "    </tr>\n",
       "  </tbody>\n",
       "</table>\n",
       "</div>"
      ],
      "text/plain": [
       "            P: sadness   joy  love  anger  fear  surprise\n",
       "A: sadness        1263    65    60    117    69        17\n",
       "joy                122  1410   198     44    37        42\n",
       "love                15   125   681     17     3        11\n",
       "anger               32    66    59   1240    77        15\n",
       "fear                16    25    29     22  1061        55\n",
       "surprise             0    11     7      0    54       305"
      ]
     },
     "execution_count": 101,
     "metadata": {},
     "output_type": "execute_result"
    }
   ],
   "source": [
    "# Display a confusion matrix\n",
    "print('Confusion Matrix for the model: Predicted (Columns) x Actual (Rows)')\n",
    "\n",
    "# Creating confusion matrix based on validation accuracy\n",
    "class_label_predictions = best_DT.predict(X_test_tfidf)\n",
    "c_m = confusion_matrix(y_test, class_label_predictions, labels=[0,1,2,3,4,5])\n",
    "\n",
    "# Create a Pandas DataFrame out of the confusion matrix for display purposes\n",
    "cm_DT = pd.DataFrame(\n",
    "c_m,\n",
    "columns=['P: sadness', 'joy', 'love', 'anger', 'fear', 'surprise'],\n",
    "index=['A: sadness', 'joy', 'love', 'anger', 'fear', 'surprise'])\n",
    "cm_DT"
   ]
  },
  {
   "cell_type": "code",
   "execution_count": 97,
   "metadata": {},
   "outputs": [
    {
     "name": "stdout",
     "output_type": "stream",
     "text": [
      "Accuracy Score: 0.8086838534599728\n"
     ]
    }
   ],
   "source": [
    "pred_DT = best_DT.predict(X_test_tfidf)\n",
    "acc_DT = accuracy_score(y_test, pred_DT)\n",
    "print(\"Accuracy Score: {}\".format(acc_DT))"
   ]
  },
  {
   "cell_type": "code",
   "execution_count": 98,
   "metadata": {},
   "outputs": [],
   "source": [
    "y_score_DT = best_DT.predict_proba(X_test_tfidf)\n",
    "# Converts probabilities into binary\n",
    "y_test_binary_DT = label_binarize(y_test, classes=[0, 1, 2, 3, 4, 5])"
   ]
  },
  {
   "cell_type": "code",
   "execution_count": 99,
   "metadata": {},
   "outputs": [
    {
     "name": "stdout",
     "output_type": "stream",
     "text": [
      "Average precision score: 0.8648423037165568\n"
     ]
    }
   ],
   "source": [
    "ap_score_DT = average_precision_score(y_test_binary_DT, y_score_DT)\n",
    "print(\"Average precision score: {}\".format(ap_score_DT))"
   ]
  },
  {
   "cell_type": "code",
   "execution_count": 100,
   "metadata": {},
   "outputs": [
    {
     "name": "stdout",
     "output_type": "stream",
     "text": [
      "F1 Score: [0.83119447 0.79324895 0.72216331 0.84670536 0.84575528 0.74209246]\n"
     ]
    }
   ],
   "source": [
    "y_pred_DT = best_DT.predict(X_test_tfidf)\n",
    "f1_score_DT = f1_score(y_test, y_pred_DT, average=None)\n",
    "print(\"F1 Score: {}\".format(f1_score_DT))"
   ]
  },
  {
   "cell_type": "markdown",
   "metadata": {},
   "source": [
    "#### Serializing the Model"
   ]
  },
  {
   "cell_type": "code",
   "execution_count": 102,
   "metadata": {},
   "outputs": [],
   "source": [
    "import pickle\n",
    "pkl_model_filename = \"Twitter_Emotion_Classification_Model.pkl\"  \n",
    "pickle.dump(best_DT, open(pkl_model_filename, 'wb'))"
   ]
  },
  {
   "cell_type": "markdown",
   "metadata": {},
   "source": [
    "<b>Citations:</b>\n",
    "\n",
    "Bird, Steven, Edward Loper and Ewan Klein (2009), Natural Language Processing with Python. O’Reilly Media Inc."
   ]
  }
 ],
 "metadata": {
  "kernelspec": {
   "display_name": "Python 3 (ipykernel)",
   "language": "python",
   "name": "python3"
  },
  "language_info": {
   "codemirror_mode": {
    "name": "ipython",
    "version": 3
   },
   "file_extension": ".py",
   "mimetype": "text/x-python",
   "name": "python",
   "nbconvert_exporter": "python",
   "pygments_lexer": "ipython3",
   "version": "3.9.19"
  },
  "toc": {
   "base_numbering": 1,
   "nav_menu": {},
   "number_sections": false,
   "sideBar": true,
   "skip_h1_title": false,
   "title_cell": "Table of Contents",
   "title_sidebar": "Contents",
   "toc_cell": false,
   "toc_position": {},
   "toc_section_display": true,
   "toc_window_display": false
  },
  "varInspector": {
   "cols": {
    "lenName": 16,
    "lenType": 16,
    "lenVar": 40
   },
   "kernels_config": {
    "python": {
     "delete_cmd_postfix": "",
     "delete_cmd_prefix": "del ",
     "library": "var_list.py",
     "varRefreshCmd": "print(var_dic_list())"
    },
    "r": {
     "delete_cmd_postfix": ") ",
     "delete_cmd_prefix": "rm(",
     "library": "var_list.r",
     "varRefreshCmd": "cat(var_dic_list()) "
    }
   },
   "types_to_exclude": [
    "module",
    "function",
    "builtin_function_or_method",
    "instance",
    "_Feature"
   ],
   "window_display": false
  }
 },
 "nbformat": 4,
 "nbformat_minor": 4
}
